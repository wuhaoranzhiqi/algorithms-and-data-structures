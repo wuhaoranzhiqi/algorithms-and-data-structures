{
 "cells": [
  {
   "cell_type": "code",
   "execution_count": 66,
   "id": "0da61a08",
   "metadata": {},
   "outputs": [],
   "source": [
    "from IPython.core.interactiveshell import InteractiveShell\n",
    "InteractiveShell.ast_node_interactivity = \"all\""
   ]
  },
  {
   "cell_type": "markdown",
   "id": "68277630",
   "metadata": {},
   "source": [
    "# 线性数据结构"
   ]
  },
  {
   "cell_type": "markdown",
   "id": "4b68b0ce",
   "metadata": {},
   "source": [
    "## 栈"
   ]
  },
  {
   "cell_type": "code",
   "execution_count": 13,
   "id": "7909b4f6",
   "metadata": {},
   "outputs": [],
   "source": [
    "# 利用Python实现栈\n",
    "# 实现功能有: 定义, 为空, 大小, 增加, 取出, 查看\n",
    "class Stack():\n",
    "    def __init__(self):\n",
    "        # 定义一个items属性, 为空列表\n",
    "        self.items = []\n",
    "    \n",
    "    def isEmpty(self):\n",
    "        return self.items == []\n",
    "    \n",
    "    def push(self, item):\n",
    "        self.items.append(item)\n",
    "    \n",
    "    def pop(self):\n",
    "        return self.items.pop()\n",
    "    \n",
    "    def peek(self):\n",
    "        return self.items[len(self.items)-1]\n",
    "    \n",
    "    def size(self):\n",
    "        return len(self.items)\n"
   ]
  },
  {
   "cell_type": "code",
   "execution_count": 14,
   "id": "a5ac07ca",
   "metadata": {},
   "outputs": [
    {
     "data": {
      "text/plain": [
       "True"
      ]
     },
     "execution_count": 14,
     "metadata": {},
     "output_type": "execute_result"
    },
    {
     "data": {
      "text/plain": [
       "'dog'"
      ]
     },
     "execution_count": 14,
     "metadata": {},
     "output_type": "execute_result"
    },
    {
     "data": {
      "text/plain": [
       "3"
      ]
     },
     "execution_count": 14,
     "metadata": {},
     "output_type": "execute_result"
    },
    {
     "data": {
      "text/plain": [
       "False"
      ]
     },
     "execution_count": 14,
     "metadata": {},
     "output_type": "execute_result"
    },
    {
     "data": {
      "text/plain": [
       "8.4"
      ]
     },
     "execution_count": 14,
     "metadata": {},
     "output_type": "execute_result"
    },
    {
     "data": {
      "text/plain": [
       "True"
      ]
     },
     "execution_count": 14,
     "metadata": {},
     "output_type": "execute_result"
    },
    {
     "data": {
      "text/plain": [
       "2"
      ]
     },
     "execution_count": 14,
     "metadata": {},
     "output_type": "execute_result"
    }
   ],
   "source": [
    "s = Stack()\n",
    "s.isEmpty()\n",
    "s.push(4)\n",
    "s.push(\"dog\")\n",
    "s.peek()\n",
    "s.push(True)\n",
    "s.size()\n",
    "s.isEmpty()\n",
    "s.push(8.4)\n",
    "s.pop()\n",
    "s.pop()\n",
    "s.size()"
   ]
  },
  {
   "cell_type": "code",
   "execution_count": 15,
   "id": "c44ca38a",
   "metadata": {},
   "outputs": [],
   "source": [
    "class Stack():\n",
    "    def __init__(self):\n",
    "        self.items = []\n",
    "    def isEmpty(self):\n",
    "        return self.items == []\n",
    "    def push(self, item):\n",
    "        self.items.insert(0, item)\n",
    "    def pop(self):\n",
    "        return self.items.pop(0)\n",
    "    def peek(self):\n",
    "        return self.items[0]\n",
    "    def size(self):\n",
    "        return len(self.items)"
   ]
  },
  {
   "cell_type": "markdown",
   "id": "a525faf1",
   "metadata": {},
   "source": [
    "###  练习: 匹配括号"
   ]
  },
  {
   "cell_type": "code",
   "execution_count": 3,
   "id": "17c8ec07",
   "metadata": {},
   "outputs": [],
   "source": [
    "from basic import Stack\n",
    "\n",
    "def parChecker(symbolString):\n",
    "    s = Stack()\n",
    "    balanced = True\n",
    "    index = 0\n",
    "    \n",
    "    while index < len(symbolString) and balanced:\n",
    "        symbol = symbolString(index)\n",
    "        if symbol == \"(\":\n",
    "            s.push(symbol)\n",
    "        else: \n",
    "            if s.isEmpty():\n",
    "                balanced = False\n",
    "            else:\n",
    "                s.pop()\n",
    "        index += 1\n",
    "        \n",
    "    if balanced and s.isEmpty():\n",
    "        return True\n",
    "    else: \n",
    "        return False"
   ]
  },
  {
   "cell_type": "markdown",
   "id": "d55f6b34",
   "metadata": {},
   "source": [
    "### 练习: 匹配符号"
   ]
  },
  {
   "cell_type": "code",
   "execution_count": 5,
   "id": "5204b263",
   "metadata": {},
   "outputs": [],
   "source": [
    "from basic import Stack\n",
    "\n",
    "def parChecker(symbolString):\n",
    "    s = Stack()\n",
    "    balanced = True\n",
    "    index = 0\n",
    "    \n",
    "    while index < len(symbolString) and balanced:\n",
    "        symbol = symbolString(index)\n",
    "        if symbol in \"([{\":\n",
    "            s.push(symbol)\n",
    "        else: \n",
    "            if s.isEmpty():\n",
    "                balanced = False\n",
    "            else:\n",
    "                top = s.pop()\n",
    "                if not matches(top, symbol):\n",
    "                    balanced = False\n",
    "        index += 1\n",
    "        \n",
    "    if balanced and s.isEmpty():\n",
    "        return True\n",
    "    else: \n",
    "        return False\n",
    "\n",
    "def matched(open, close):\n",
    "    opens = \"([{\"\n",
    "    closers = \")]}\"\n",
    "    return opens.index(open) == closers.index(close)"
   ]
  },
  {
   "cell_type": "markdown",
   "id": "e12998af",
   "metadata": {},
   "source": [
    "### 练习: 将十进制转换成二进制"
   ]
  },
  {
   "cell_type": "code",
   "execution_count": 14,
   "id": "24e7638a",
   "metadata": {},
   "outputs": [],
   "source": [
    "from basic import Stack\n",
    "\n",
    "def divideBy2(decNumber):\n",
    "    remstack = Stack()\n",
    "    \n",
    "    while decNumber > 0: # 最后为1的时候继续, 为0的时候则停止\n",
    "        rem = decNumber % 2\n",
    "        remstack.push(rem)\n",
    "        decNumber = decNumber // 2\n",
    "        \n",
    "    binString = \"\"\n",
    "    while not remstack.isEmpty():\n",
    "        binString += str(remstack.pop())\n",
    "    \n",
    "    return binString\n",
    "        "
   ]
  },
  {
   "cell_type": "code",
   "execution_count": 15,
   "id": "54be11a4",
   "metadata": {},
   "outputs": [
    {
     "data": {
      "text/plain": [
       "'11101001'"
      ]
     },
     "execution_count": 15,
     "metadata": {},
     "output_type": "execute_result"
    }
   ],
   "source": [
    "divideBy2(233)"
   ]
  },
  {
   "cell_type": "code",
   "execution_count": 18,
   "id": "c8aa056a",
   "metadata": {},
   "outputs": [],
   "source": [
    "# 扩展: 十进制转换成任意进制\n",
    "def baseConverter(decNumber, base):\n",
    "    # 存储数字, 用于找到对应的进制数\n",
    "    digits = \"0123456789ABCDEF\"\n",
    "    remstack = Stack()\n",
    "    \n",
    "    while decNumber > 0: # 最后为1的时候继续, 为0的时候则停止\n",
    "        rem = decNumber % base\n",
    "        remstack.push(rem)\n",
    "        decNumber = decNumber // base\n",
    "        \n",
    "    newString = \"\"\n",
    "    while not remstack.isEmpty():\n",
    "        newString += digits[remstack.pop()]\n",
    "    \n",
    "    return newString"
   ]
  },
  {
   "cell_type": "code",
   "execution_count": 19,
   "id": "6209e00c",
   "metadata": {},
   "outputs": [
    {
     "data": {
      "text/plain": [
       "'E9'"
      ]
     },
     "execution_count": 19,
     "metadata": {},
     "output_type": "execute_result"
    }
   ],
   "source": [
    "baseConverter(233, 16)"
   ]
  },
  {
   "cell_type": "markdown",
   "id": "5a12f7c7",
   "metadata": {},
   "source": [
    "### 前序, 中序和后序"
   ]
  },
  {
   "cell_type": "code",
   "execution_count": 57,
   "id": "def15429",
   "metadata": {},
   "outputs": [],
   "source": [
    "from basic import Stack\n",
    "import string\n",
    "\n",
    "def infixToPostfix(infixexpr):\n",
    "    prec = {}\n",
    "    prec[\"*\"] = 3\n",
    "    prec[\"/\"] = 3\n",
    "    prec[\"+\"] = 2\n",
    "    prec[\"-\"] = 2\n",
    "    prec[\"(\"] = 1\n",
    "    \n",
    "    opstack = Stack()\n",
    "    postfixList = []\n",
    "    \n",
    "    tokenList = infixexpr.split()\n",
    "    \n",
    "    for token in tokenList:\n",
    "        if token in string.digits:\n",
    "            postfixList.append(token)\n",
    "        elif token == \"(\":\n",
    "            opstack.push(token)\n",
    "        elif token == \")\":\n",
    "            topToken = opstack.pop()\n",
    "            while topToken != \"(\":\n",
    "                postfixList.append(topToken)\n",
    "                topToken = opstack.pop()\n",
    "        else:\n",
    "            # 优先级只是大于前面一个\n",
    "            while (not opstack.isEmpty()) and (prec[opstack.peek()] >= prec[token]):\n",
    "                postfixList.append(opstack.pop())\n",
    "            opstack.push(token)\n",
    "            \n",
    "    while not opstack.isEmpty():\n",
    "        postfixList.append(opstack.pop())\n",
    "        \n",
    "    return \" \".join(postfixList)\n",
    "            \n",
    "            "
   ]
  },
  {
   "cell_type": "code",
   "execution_count": 58,
   "id": "a1ee64c4",
   "metadata": {
    "collapsed": true
   },
   "outputs": [
    {
     "ename": "KeyError",
     "evalue": "'A'",
     "output_type": "error",
     "traceback": [
      "\u001b[1;31m---------------------------------------------------------------------------\u001b[0m",
      "\u001b[1;31mKeyError\u001b[0m                                  Traceback (most recent call last)",
      "\u001b[1;32m<ipython-input-58-429e976d634e>\u001b[0m in \u001b[0;36m<module>\u001b[1;34m()\u001b[0m\n\u001b[1;32m----> 1\u001b[1;33m \u001b[0minfixToPostfix\u001b[0m\u001b[1;33m(\u001b[0m\u001b[1;34m\"( A + B ) * ( C + D )\"\u001b[0m\u001b[1;33m)\u001b[0m\u001b[1;33m\u001b[0m\u001b[1;33m\u001b[0m\u001b[0m\n\u001b[0m",
      "\u001b[1;32m<ipython-input-57-a2908cc1369a>\u001b[0m in \u001b[0;36minfixToPostfix\u001b[1;34m(infixexpr)\u001b[0m\n\u001b[0;32m     27\u001b[0m         \u001b[1;32melse\u001b[0m\u001b[1;33m:\u001b[0m\u001b[1;33m\u001b[0m\u001b[1;33m\u001b[0m\u001b[0m\n\u001b[0;32m     28\u001b[0m             \u001b[1;31m# 优先级只是大于前面一个\u001b[0m\u001b[1;33m\u001b[0m\u001b[1;33m\u001b[0m\u001b[1;33m\u001b[0m\u001b[0m\n\u001b[1;32m---> 29\u001b[1;33m             \u001b[1;32mwhile\u001b[0m \u001b[1;33m(\u001b[0m\u001b[1;32mnot\u001b[0m \u001b[0mopstack\u001b[0m\u001b[1;33m.\u001b[0m\u001b[0misEmpty\u001b[0m\u001b[1;33m(\u001b[0m\u001b[1;33m)\u001b[0m\u001b[1;33m)\u001b[0m \u001b[1;32mand\u001b[0m \u001b[1;33m(\u001b[0m\u001b[0mprec\u001b[0m\u001b[1;33m[\u001b[0m\u001b[0mopstack\u001b[0m\u001b[1;33m.\u001b[0m\u001b[0mpeek\u001b[0m\u001b[1;33m(\u001b[0m\u001b[1;33m)\u001b[0m\u001b[1;33m]\u001b[0m \u001b[1;33m>=\u001b[0m \u001b[0mprec\u001b[0m\u001b[1;33m[\u001b[0m\u001b[0mtoken\u001b[0m\u001b[1;33m]\u001b[0m\u001b[1;33m)\u001b[0m\u001b[1;33m:\u001b[0m\u001b[1;33m\u001b[0m\u001b[1;33m\u001b[0m\u001b[0m\n\u001b[0m\u001b[0;32m     30\u001b[0m                 \u001b[0mpostfixList\u001b[0m\u001b[1;33m.\u001b[0m\u001b[0mappend\u001b[0m\u001b[1;33m(\u001b[0m\u001b[0mopstack\u001b[0m\u001b[1;33m.\u001b[0m\u001b[0mpop\u001b[0m\u001b[1;33m(\u001b[0m\u001b[1;33m)\u001b[0m\u001b[1;33m)\u001b[0m\u001b[1;33m\u001b[0m\u001b[1;33m\u001b[0m\u001b[0m\n\u001b[0;32m     31\u001b[0m             \u001b[0mopstack\u001b[0m\u001b[1;33m.\u001b[0m\u001b[0mpush\u001b[0m\u001b[1;33m(\u001b[0m\u001b[0mtoken\u001b[0m\u001b[1;33m)\u001b[0m\u001b[1;33m\u001b[0m\u001b[1;33m\u001b[0m\u001b[0m\n",
      "\u001b[1;31mKeyError\u001b[0m: 'A'"
     ]
    }
   ],
   "source": [
    "# infixToPostfix(\"( A + B ) * ( C + D )\")"
   ]
  },
  {
   "cell_type": "markdown",
   "id": "32512679",
   "metadata": {},
   "source": [
    "### 计算后序表达式"
   ]
  },
  {
   "cell_type": "code",
   "execution_count": 59,
   "id": "a654a459",
   "metadata": {},
   "outputs": [],
   "source": [
    "from basic import Stack\n",
    "def postfixEval(postfixExpr):\n",
    "    operandStack = Stack()\n",
    "    tokenList = postfixExpr.split()\n",
    "    \n",
    "    for token in tokenList:\n",
    "        if token in \"0123456789\":\n",
    "            operandStack.push(token)\n",
    "        else:\n",
    "            operand2 = int(operandStack.pop())\n",
    "            operand1 = int(operandStack.pop())\n",
    "            result = doMath(token, operand1, operand2)\n",
    "            operandStack.push(result)\n",
    "    return operandStack.pop()\n",
    "\n",
    "def doMath(op, op1, op2):\n",
    "    if op == \"*\":\n",
    "        return op1 * op2\n",
    "    elif op == \"/\":\n",
    "        return op1 / op2\n",
    "    elif op == \"+\":\n",
    "        return op1 + op2\n",
    "    else:\n",
    "        return op1 - op2\n",
    "    "
   ]
  },
  {
   "cell_type": "code",
   "execution_count": 60,
   "id": "eff0cb04",
   "metadata": {},
   "outputs": [
    {
     "data": {
      "text/plain": [
       "45"
      ]
     },
     "execution_count": 60,
     "metadata": {},
     "output_type": "execute_result"
    }
   ],
   "source": [
    "postfixExpr = infixToPostfix(\"( 7 + 8 ) * ( 1 + 2 )\")\n",
    "postfixEval(postfixExpr)"
   ]
  },
  {
   "cell_type": "markdown",
   "id": "41394f92",
   "metadata": {},
   "source": [
    "## 队列"
   ]
  },
  {
   "cell_type": "code",
   "execution_count": 64,
   "id": "b5a65df0",
   "metadata": {},
   "outputs": [],
   "source": [
    "# 利用python实现队列\n",
    "class Queue:\n",
    "    def __init__(self):\n",
    "        self.items = []\n",
    "    def isEmpty(self):\n",
    "        return self.items == []\n",
    "    def enqueue(self, item):\n",
    "        self.items.insert(0, item)\n",
    "    def dequeue(self):\n",
    "        return self.items.pop()\n",
    "    def size(self):\n",
    "        return len(self.items)\n",
    "    "
   ]
  },
  {
   "cell_type": "code",
   "execution_count": 67,
   "id": "5cf18918",
   "metadata": {},
   "outputs": [
    {
     "data": {
      "text/plain": [
       "True"
      ]
     },
     "execution_count": 67,
     "metadata": {},
     "output_type": "execute_result"
    },
    {
     "data": {
      "text/plain": [
       "3"
      ]
     },
     "execution_count": 67,
     "metadata": {},
     "output_type": "execute_result"
    },
    {
     "data": {
      "text/plain": [
       "False"
      ]
     },
     "execution_count": 67,
     "metadata": {},
     "output_type": "execute_result"
    },
    {
     "data": {
      "text/plain": [
       "4"
      ]
     },
     "execution_count": 67,
     "metadata": {},
     "output_type": "execute_result"
    },
    {
     "data": {
      "text/plain": [
       "'dog'"
      ]
     },
     "execution_count": 67,
     "metadata": {},
     "output_type": "execute_result"
    },
    {
     "data": {
      "text/plain": [
       "2"
      ]
     },
     "execution_count": 67,
     "metadata": {},
     "output_type": "execute_result"
    }
   ],
   "source": [
    "# test\n",
    "q = Queue()\n",
    "q.isEmpty()\n",
    "q.enqueue(4)\n",
    "q.enqueue(\"dog\")\n",
    "q.enqueue(True)\n",
    "q.size()\n",
    "q.isEmpty()\n",
    "q.enqueue(8.4)\n",
    "q.dequeue()\n",
    "q.dequeue()\n",
    "q.size()"
   ]
  },
  {
   "cell_type": "markdown",
   "id": "3a0ef53c",
   "metadata": {},
   "source": [
    "### 练习: 传土豆"
   ]
  },
  {
   "cell_type": "code",
   "execution_count": 68,
   "id": "e53dce07",
   "metadata": {},
   "outputs": [],
   "source": [
    "from basic import queue\n",
    "def hotPotato(namelist, num):\n",
    "    simqueue = Queue()\n",
    "    for name in namelist:\n",
    "        simqueue.enqueue(name)\n",
    "    # 只保留1个人\n",
    "    while simqueue.size() > 1:\n",
    "        for i in range(num):\n",
    "            simqueue.enqueue(simqueue.dequeue())\n",
    "        simqueue.dequeue()\n",
    "    return simqueue.dequeue()"
   ]
  },
  {
   "cell_type": "code",
   "execution_count": 71,
   "id": "4c746e24",
   "metadata": {},
   "outputs": [
    {
     "data": {
      "text/plain": [
       "'jane'"
      ]
     },
     "execution_count": 71,
     "metadata": {},
     "output_type": "execute_result"
    }
   ],
   "source": [
    "hotPotato([\"bill\", \"david\", \"susan\", \"jane\", \"kent\", \"brad\"], 10)"
   ]
  },
  {
   "cell_type": "markdown",
   "id": "02ce85d7",
   "metadata": {},
   "source": [
    "### 练习: 打印任务"
   ]
  },
  {
   "cell_type": "code",
   "execution_count": 82,
   "id": "0d117b84",
   "metadata": {},
   "outputs": [],
   "source": [
    "from basic import Queue\n",
    "import random\n",
    "\n",
    "def simulation(numSeconds, pagesPerMinute):\n",
    "    labprinter = Printer(pagesPerMinute)\n",
    "    printQueue = Queue()\n",
    "    waitingtimes = []\n",
    "    \n",
    "    for currentSecond in range(numSeconds):\n",
    "        # 创建打印任务\n",
    "        if newPrintTask():\n",
    "            task = Task(currentSecond)\n",
    "            printQueue.enqueue(task)\n",
    "        # 处理下一个任务\n",
    "        if (not labprinter.busy()) and (not printQueue.isEmpty()):\n",
    "            nexttask = printQueue.dequeue()\n",
    "            waitingtimes.append(nexttask.waitTime(currentSecond))\n",
    "            labprinter.startNext(nexttask)\n",
    "        labprinter.tick()\n",
    "    \n",
    "    averageWait = sum(waitingtimes) / len(waitingtimes)\n",
    "    print(averageWait, printQueue.size())\n",
    "    \n",
    "    \n",
    "def newPrintTask():\n",
    "    num = random.randrange(1, 181)\n",
    "    if num == 180:\n",
    "        return True\n",
    "    else:\n",
    "        return False"
   ]
  },
  {
   "cell_type": "code",
   "execution_count": 83,
   "id": "87c40262",
   "metadata": {},
   "outputs": [],
   "source": [
    "class Printer:\n",
    "    def __init__(self, ppm):\n",
    "        self.pagerate = ppm\n",
    "        self.currentTask = None\n",
    "        self.timeRemaining = 0\n",
    "    \n",
    "    def tick(self):\n",
    "        if self.currentTask != None:\n",
    "            self.timeRemaining -= 1\n",
    "            if self.timeRemaining <= 0:\n",
    "                self.currentTask = None\n",
    "        \n",
    "    def busy(self):\n",
    "        if self.currentTask != None:\n",
    "            return True\n",
    "        else:\n",
    "            return False\n",
    "\n",
    "    def startNext(self, newtask):\n",
    "        self.currentTask = newtask\n",
    "        # 打印该任务需要的时间\n",
    "        self.timeRemaining = newtask.getPages() * 60 / self.pagerate"
   ]
  },
  {
   "cell_type": "code",
   "execution_count": 84,
   "id": "1512db3a",
   "metadata": {},
   "outputs": [],
   "source": [
    "class Task:\n",
    "    def __init__(self, time):\n",
    "        self.timestamp = time\n",
    "        self.pages = random.randrange(1, 21)\n",
    "    def getStamp(self):\n",
    "        return self.timestamp\n",
    "    def getPages(self):\n",
    "        return self.pages\n",
    "    # 求等待时间\n",
    "    def waitTime(self, currenttime):\n",
    "        return currenttime - self.timestamp"
   ]
  },
  {
   "cell_type": "code",
   "execution_count": 85,
   "id": "599b5963",
   "metadata": {
    "scrolled": true
   },
   "outputs": [
    {
     "name": "stdout",
     "output_type": "stream",
     "text": [
      "9.6 0\n",
      "23.133333333333333 0\n",
      "17.235294117647058 0\n",
      "0.0 0\n",
      "8.894736842105264 0\n",
      "4.25 1\n",
      "13.2 0\n",
      "27.59090909090909 0\n",
      "46.27272727272727 0\n",
      "30.217391304347824 0\n"
     ]
    }
   ],
   "source": [
    "#test\n",
    "for i in range(10):\n",
    "    simulation(3600, 10)"
   ]
  },
  {
   "cell_type": "markdown",
   "id": "ba6d5273",
   "metadata": {},
   "source": [
    "## 双端队列"
   ]
  },
  {
   "cell_type": "code",
   "execution_count": 86,
   "id": "5b348978",
   "metadata": {},
   "outputs": [],
   "source": [
    "class Deque:\n",
    "    def __init__(self):\n",
    "        self.items = []\n",
    "    def isEmpty(self):\n",
    "        return self.items == []\n",
    "    def addFront(self, item):\n",
    "        self.items.append(item)\n",
    "    def addRear(self, item):\n",
    "        self.items.insert(0, item)\n",
    "    def removeFront(self):\n",
    "        return self.items.pop()\n",
    "    def removeRear(self):\n",
    "        return self.items.pop(0)\n",
    "    def size(self):\n",
    "        return len(self.items)"
   ]
  },
  {
   "cell_type": "code",
   "execution_count": 87,
   "id": "b128496b",
   "metadata": {},
   "outputs": [
    {
     "data": {
      "text/plain": [
       "True"
      ]
     },
     "execution_count": 87,
     "metadata": {},
     "output_type": "execute_result"
    },
    {
     "data": {
      "text/plain": [
       "4"
      ]
     },
     "execution_count": 87,
     "metadata": {},
     "output_type": "execute_result"
    },
    {
     "data": {
      "text/plain": [
       "False"
      ]
     },
     "execution_count": 87,
     "metadata": {},
     "output_type": "execute_result"
    },
    {
     "data": {
      "text/plain": [
       "8.4"
      ]
     },
     "execution_count": 87,
     "metadata": {},
     "output_type": "execute_result"
    },
    {
     "data": {
      "text/plain": [
       "True"
      ]
     },
     "execution_count": 87,
     "metadata": {},
     "output_type": "execute_result"
    }
   ],
   "source": [
    "d = Deque()\n",
    "d.isEmpty()\n",
    "d.addRear(4)\n",
    "d.addRear(\"dog\")\n",
    "d.addFront(\"cat\")\n",
    "d.addFront(True)\n",
    "d.size()\n",
    "d.isEmpty()\n",
    "d.addRear(8.4)\n",
    "d.removeRear()\n",
    "d.removeFront()\n"
   ]
  },
  {
   "cell_type": "markdown",
   "id": "f955ea92",
   "metadata": {},
   "source": [
    "### 回文检测器"
   ]
  },
  {
   "cell_type": "code",
   "execution_count": 96,
   "id": "b7e5d684",
   "metadata": {},
   "outputs": [],
   "source": [
    "from basic import Deque\n",
    "def palchecker(aString):\n",
    "    chardeque = Deque()\n",
    "    \n",
    "    for ch in aString:\n",
    "        chardeque.addFront(ch)\n",
    "        \n",
    "    stillEqual = True\n",
    "    \n",
    "    while chardeque.size() > 1 and stillEqual:\n",
    "        first = chardeque.removeFront()\n",
    "        last = chardeque.removeRear()\n",
    "        if first != last:\n",
    "            stillEqual = False\n",
    "    return stillEqual"
   ]
  },
  {
   "cell_type": "code",
   "execution_count": 97,
   "id": "cabf5ef2",
   "metadata": {},
   "outputs": [
    {
     "data": {
      "text/plain": [
       "False"
      ]
     },
     "execution_count": 97,
     "metadata": {},
     "output_type": "execute_result"
    }
   ],
   "source": [
    "palchecker(\"lsdkjfsk\")"
   ]
  },
  {
   "cell_type": "code",
   "execution_count": 98,
   "id": "e0b0c130",
   "metadata": {},
   "outputs": [
    {
     "data": {
      "text/plain": [
       "True"
      ]
     },
     "execution_count": 98,
     "metadata": {},
     "output_type": "execute_result"
    }
   ],
   "source": [
    "palchecker(\"dfsfsfd\")"
   ]
  },
  {
   "cell_type": "markdown",
   "id": "4b8b6204",
   "metadata": {},
   "source": [
    "## 列表"
   ]
  },
  {
   "cell_type": "code",
   "execution_count": 110,
   "id": "25e8bec2",
   "metadata": {},
   "outputs": [],
   "source": [
    "# python列表是基于数组实现的"
   ]
  },
  {
   "cell_type": "markdown",
   "id": "dfdcc8e4",
   "metadata": {},
   "source": [
    "### 无序列表"
   ]
  },
  {
   "cell_type": "code",
   "execution_count": 99,
   "id": "a72227d4",
   "metadata": {},
   "outputs": [],
   "source": [
    "# 接地Node节点\n",
    "class Node:\n",
    "    def __init__(self, initdata):\n",
    "        self.data = initdata\n",
    "        self.next = None\n",
    "    def getData(self):\n",
    "        return self.data\n",
    "    def getNext(self):\n",
    "        return self.next\n",
    "    def setData(self, newdata):\n",
    "        self.data = newdata\n",
    "    def setNext(self, newnext):\n",
    "        self.next = newnext"
   ]
  },
  {
   "cell_type": "code",
   "execution_count": 108,
   "id": "387dc152",
   "metadata": {},
   "outputs": [],
   "source": [
    "# 无序列表\n",
    "class UnorderedList:\n",
    "    def __init__(self):\n",
    "        self.head = None\n",
    "    \n",
    "    def isEmpty(self):\n",
    "        return self.head == None\n",
    "    \n",
    "    # 添加\n",
    "    def add(self, item):\n",
    "        temp = Node(item)\n",
    "        # 第一步: 将temp的next节点设置为head对应的节点\n",
    "        temp.setNext(self.head)\n",
    "        # 第二步: 将head对应的节点设置为temp\n",
    "        self.head = temp\n",
    "        \n",
    "    # 长度\n",
    "    def length(self):\n",
    "        current = self.head\n",
    "        count = 0\n",
    "        while current != None:\n",
    "            count += 1\n",
    "            current = current.getNext()\n",
    "        return count\n",
    "    \n",
    "    # 搜索\n",
    "    def search(self, item):\n",
    "        current = self.head\n",
    "        found = False\n",
    "        while current != None and not found:\n",
    "            if current.getData() == item:\n",
    "                found = True\n",
    "            else:\n",
    "                current = current.getNext()\n",
    "        return found\n",
    "    \n",
    "    # 删除方法\n",
    "    def remove(self, item):\n",
    "        current = self.head\n",
    "        previous = None\n",
    "        found = False\n",
    "        while not found:\n",
    "            if current.getData() == item:\n",
    "                found = True\n",
    "            else:\n",
    "                previous = current\n",
    "                current = current.getNext()\n",
    "                \n",
    "        if previous == None:\n",
    "            self.head = current.getNext()\n",
    "        else:\n",
    "            previous.setNext(current.getNext())"
   ]
  },
  {
   "cell_type": "code",
   "execution_count": 104,
   "id": "44a3a927",
   "metadata": {},
   "outputs": [],
   "source": [
    "# test\n",
    "mylist = UnorderedList()\n",
    "mylist.add(31)\n",
    "mylist.add(77)\n",
    "mylist.add(17)\n",
    "mylist.add(93)\n",
    "mylist.add(26)\n",
    "mylist.add(54)"
   ]
  },
  {
   "cell_type": "code",
   "execution_count": 106,
   "id": "9b6fea7b",
   "metadata": {},
   "outputs": [
    {
     "data": {
      "text/plain": [
       "True"
      ]
     },
     "execution_count": 106,
     "metadata": {},
     "output_type": "execute_result"
    }
   ],
   "source": [
    "mylist.search(17)"
   ]
  },
  {
   "cell_type": "markdown",
   "id": "a67909d9",
   "metadata": {},
   "source": [
    "### 有序列表"
   ]
  },
  {
   "cell_type": "code",
   "execution_count": 109,
   "id": "3d8c676f",
   "metadata": {},
   "outputs": [],
   "source": [
    "# \n",
    "class OrderedList():\n",
    "    def __init__(self):\n",
    "        self.head = None\n",
    "    \n",
    "    # 仅仅需要修改search和add\n",
    "    # search方法\n",
    "    def search(self, item):\n",
    "        current = self.head\n",
    "        found = False\n",
    "        stop = False\n",
    "        while current != None and not found and not stop:\n",
    "            if current.getData() == item:\n",
    "                found = True\n",
    "            else:\n",
    "                if current.getData() > item:\n",
    "                    # 即使stop为True, 但是found还是False\n",
    "                    stop = True\n",
    "                else:\n",
    "                    current = current.getNext()\n",
    "        return found\n",
    "    \n",
    "    # add方法\n",
    "    def add(self, item):\n",
    "        current = self.head()\n",
    "        previous = None\n",
    "        stop = False\n",
    "        while current != None and not stop:\n",
    "            if current.getData() > item:\n",
    "                stop = False\n",
    "            else:\n",
    "                previous = current\n",
    "                current = current.getNext()\n",
    "        \n",
    "        temp = Node(item)\n",
    "        if previous == None:\n",
    "            temp.setNext(self.head)\n",
    "            self.head = temp\n",
    "        else:\n",
    "            temp.setNext(current)\n",
    "            previous.setNext(temp)"
   ]
  },
  {
   "cell_type": "code",
   "execution_count": null,
   "id": "bf685f4d",
   "metadata": {},
   "outputs": [],
   "source": []
  }
 ],
 "metadata": {
  "kernelspec": {
   "display_name": "Python 3",
   "language": "python",
   "name": "python3"
  },
  "language_info": {
   "codemirror_mode": {
    "name": "ipython",
    "version": 3
   },
   "file_extension": ".py",
   "mimetype": "text/x-python",
   "name": "python",
   "nbconvert_exporter": "python",
   "pygments_lexer": "ipython3",
   "version": "3.7.6"
  },
  "toc": {
   "base_numbering": 1,
   "nav_menu": {},
   "number_sections": true,
   "sideBar": true,
   "skip_h1_title": false,
   "title_cell": "Table of Contents",
   "title_sidebar": "Contents",
   "toc_cell": false,
   "toc_position": {},
   "toc_section_display": true,
   "toc_window_display": true
  }
 },
 "nbformat": 4,
 "nbformat_minor": 5
}

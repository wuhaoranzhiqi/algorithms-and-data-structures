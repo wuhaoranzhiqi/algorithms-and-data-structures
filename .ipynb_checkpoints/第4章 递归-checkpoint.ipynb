{
 "cells": [
  {
   "cell_type": "markdown",
   "id": "f6ca4f70",
   "metadata": {},
   "source": [
    "# 递归"
   ]
  },
  {
   "cell_type": "markdown",
   "id": "cff52a94",
   "metadata": {},
   "source": [
    "## 计算列数之和"
   ]
  },
  {
   "cell_type": "code",
   "execution_count": null,
   "id": "8002d685",
   "metadata": {},
   "outputs": [],
   "source": [
    "def listsum(numlist):\n",
    "    if len(numlist) == 1:\n",
    "        return numlist[0]\n",
    "    else:\n",
    "        return numlist[0] + listsum(numlist[1:])"
   ]
  },
  {
   "cell_type": "code",
   "execution_count": null,
   "id": "de35f6a5",
   "metadata": {},
   "outputs": [],
   "source": [
    "listsum([1, 3, 5, 7, 9])"
   ]
  },
  {
   "cell_type": "code",
   "execution_count": null,
   "id": "4de88bbb",
   "metadata": {},
   "outputs": [],
   "source": [
    "# 递归的三要素\n",
    "# 1. 要有基本情况\n",
    "# 2. 向基本情况靠近\n",
    "# 3. 递归的调用自己"
   ]
  },
  {
   "cell_type": "markdown",
   "id": "b55c84a6",
   "metadata": {},
   "source": [
    "## 将十进制转换成任意进制的字符串"
   ]
  },
  {
   "cell_type": "code",
   "execution_count": null,
   "id": "5615946e",
   "metadata": {},
   "outputs": [],
   "source": [
    "def toStr(n, base):\n",
    "    convertString = \"0123456789ABCDEFG\"\n",
    "    if n < base:\n",
    "        return convertString[n]\n",
    "    else:\n",
    "        return toStr(n//base, base) + convertString[n%base]"
   ]
  },
  {
   "cell_type": "code",
   "execution_count": null,
   "id": "a96b1eba",
   "metadata": {},
   "outputs": [],
   "source": [
    "toStr(10, 2)"
   ]
  },
  {
   "cell_type": "markdown",
   "id": "e5a5f39c",
   "metadata": {},
   "source": [
    "# 栈帧: 实现递归"
   ]
  },
  {
   "cell_type": "code",
   "execution_count": null,
   "id": "0a15e045",
   "metadata": {},
   "outputs": [],
   "source": [
    "from basic import Stack\n",
    "\n",
    "rStack = Stack()\n",
    "\n",
    "def toStr(n, base):\n",
    "    convertString = \"0123456789ABCDEFG\"\n",
    "    if n < base:\n",
    "        rStack.push(convertString[n])\n",
    "    else:\n",
    "        rStack.push(convertString[n%base])\n",
    "        toStr(n//base, base)\n",
    "        \n",
    "        "
   ]
  },
  {
   "cell_type": "markdown",
   "id": "59abb5f0",
   "metadata": {},
   "source": [
    "# 递归可视化"
   ]
  },
  {
   "cell_type": "markdown",
   "id": "95eb32bc",
   "metadata": {},
   "source": [
    "## 分形树"
   ]
  },
  {
   "cell_type": "code",
   "execution_count": null,
   "id": "a23829e0",
   "metadata": {},
   "outputs": [],
   "source": [
    "from turtle import *\n",
    "\n",
    "myTurtle = Turtle()\n",
    "myWin = myTurtle.getscreen()\n",
    "\n",
    "def drawSporal(myTurtle, lineLen):\n",
    "    if lineLen > 0:\n",
    "        myTurtle.forward(lineLen)\n",
    "        myTurtle.right(90)\n",
    "        drawSporal(myTurtle, lineLen-5)\n",
    "# test\n",
    "drawSporal(myTurtle, 100)\n",
    "myWin.exitonclick()"
   ]
  },
  {
   "cell_type": "code",
   "execution_count": null,
   "id": "d71472b6",
   "metadata": {},
   "outputs": [],
   "source": [
    "def tree(branchLen, t):\n",
    "    if branchLen > 5:\n",
    "        t.forward(branchLen)\n",
    "        t.right(20)\n",
    "        tree(branchLen-20, t)\n",
    "        t.left(40)\n",
    "        tree(branchLen-20, t)\n",
    "        t.right(20)\n",
    "        t.backward(branchLen)"
   ]
  },
  {
   "cell_type": "code",
   "execution_count": null,
   "id": "78522e03",
   "metadata": {},
   "outputs": [],
   "source": [
    "from turtle import *\n",
    "t = Turtle()\n",
    "myWin = t.getscreen()\n",
    "t.left(90)\n",
    "t.up() # 不画, 抬起来\n",
    "t.backward(300)\n",
    "t.down()\n",
    "t.color(\"green\")\n",
    "tree(110, t)\n",
    "\n",
    "myWin.exitonclick()"
   ]
  },
  {
   "cell_type": "markdown",
   "id": "c6483b24",
   "metadata": {},
   "source": [
    "## 谢尔平斯基三角形"
   ]
  },
  {
   "cell_type": "code",
   "execution_count": 1,
   "id": "25d8f2a2",
   "metadata": {},
   "outputs": [
    {
     "ename": "KeyboardInterrupt",
     "evalue": "",
     "output_type": "error",
     "traceback": [
      "\u001b[1;31m---------------------------------------------------------------------------\u001b[0m",
      "\u001b[1;31mKeyboardInterrupt\u001b[0m                         Traceback (most recent call last)",
      "\u001b[1;32m<ipython-input-1-4bdc6ce46649>\u001b[0m in \u001b[0;36m<module>\u001b[1;34m\u001b[0m\n\u001b[0;32m     39\u001b[0m \u001b[0mmyPoints\u001b[0m \u001b[1;33m=\u001b[0m \u001b[1;33m[\u001b[0m\u001b[1;33m(\u001b[0m\u001b[1;33m-\u001b[0m\u001b[1;36m500\u001b[0m\u001b[1;33m,\u001b[0m \u001b[1;33m-\u001b[0m\u001b[1;36m250\u001b[0m\u001b[1;33m)\u001b[0m\u001b[1;33m,\u001b[0m \u001b[1;33m(\u001b[0m\u001b[1;36m0\u001b[0m\u001b[1;33m,\u001b[0m \u001b[1;36m500\u001b[0m\u001b[1;33m)\u001b[0m\u001b[1;33m,\u001b[0m \u001b[1;33m(\u001b[0m\u001b[1;36m500\u001b[0m\u001b[1;33m,\u001b[0m \u001b[1;33m-\u001b[0m\u001b[1;36m250\u001b[0m\u001b[1;33m)\u001b[0m\u001b[1;33m]\u001b[0m\u001b[1;33m\u001b[0m\u001b[1;33m\u001b[0m\u001b[0m\n\u001b[0;32m     40\u001b[0m \u001b[0msierpinski\u001b[0m\u001b[1;33m(\u001b[0m\u001b[0mmyPoints\u001b[0m\u001b[1;33m,\u001b[0m \u001b[1;36m5\u001b[0m\u001b[1;33m,\u001b[0m \u001b[0mmyTurtle\u001b[0m\u001b[1;33m)\u001b[0m\u001b[1;33m\u001b[0m\u001b[1;33m\u001b[0m\u001b[0m\n\u001b[1;32m---> 41\u001b[1;33m \u001b[0mmyWin\u001b[0m\u001b[1;33m.\u001b[0m\u001b[0mexitonclick\u001b[0m\u001b[1;33m(\u001b[0m\u001b[1;33m)\u001b[0m\u001b[1;33m\u001b[0m\u001b[1;33m\u001b[0m\u001b[0m\n\u001b[0m",
      "\u001b[1;32mD:\\Anaconda3\\lib\\turtle.py\u001b[0m in \u001b[0;36mexitonclick\u001b[1;34m(self)\u001b[0m\n\u001b[0;32m   3792\u001b[0m             \u001b[1;32mreturn\u001b[0m\u001b[1;33m\u001b[0m\u001b[1;33m\u001b[0m\u001b[0m\n\u001b[0;32m   3793\u001b[0m         \u001b[1;32mtry\u001b[0m\u001b[1;33m:\u001b[0m\u001b[1;33m\u001b[0m\u001b[1;33m\u001b[0m\u001b[0m\n\u001b[1;32m-> 3794\u001b[1;33m             \u001b[0mmainloop\u001b[0m\u001b[1;33m(\u001b[0m\u001b[1;33m)\u001b[0m\u001b[1;33m\u001b[0m\u001b[1;33m\u001b[0m\u001b[0m\n\u001b[0m\u001b[0;32m   3795\u001b[0m         \u001b[1;32mexcept\u001b[0m \u001b[0mAttributeError\u001b[0m\u001b[1;33m:\u001b[0m\u001b[1;33m\u001b[0m\u001b[1;33m\u001b[0m\u001b[0m\n\u001b[0;32m   3796\u001b[0m             \u001b[0mexit\u001b[0m\u001b[1;33m(\u001b[0m\u001b[1;36m0\u001b[0m\u001b[1;33m)\u001b[0m\u001b[1;33m\u001b[0m\u001b[1;33m\u001b[0m\u001b[0m\n",
      "\u001b[1;32mD:\\Anaconda3\\lib\\turtle.py\u001b[0m in \u001b[0;36mmainloop\u001b[1;34m()\u001b[0m\n",
      "\u001b[1;32mD:\\Anaconda3\\lib\\turtle.py\u001b[0m in \u001b[0;36mmainloop\u001b[1;34m(self)\u001b[0m\n\u001b[0;32m    811\u001b[0m \u001b[1;33m\u001b[0m\u001b[0m\n\u001b[0;32m    812\u001b[0m         \"\"\"\n\u001b[1;32m--> 813\u001b[1;33m         \u001b[0mTK\u001b[0m\u001b[1;33m.\u001b[0m\u001b[0mmainloop\u001b[0m\u001b[1;33m(\u001b[0m\u001b[1;33m)\u001b[0m\u001b[1;33m\u001b[0m\u001b[1;33m\u001b[0m\u001b[0m\n\u001b[0m\u001b[0;32m    814\u001b[0m \u001b[1;33m\u001b[0m\u001b[0m\n\u001b[0;32m    815\u001b[0m     \u001b[1;32mdef\u001b[0m \u001b[0mtextinput\u001b[0m\u001b[1;33m(\u001b[0m\u001b[0mself\u001b[0m\u001b[1;33m,\u001b[0m \u001b[0mtitle\u001b[0m\u001b[1;33m,\u001b[0m \u001b[0mprompt\u001b[0m\u001b[1;33m)\u001b[0m\u001b[1;33m:\u001b[0m\u001b[1;33m\u001b[0m\u001b[1;33m\u001b[0m\u001b[0m\n",
      "\u001b[1;32mD:\\Anaconda3\\lib\\tkinter\\__init__.py\u001b[0m in \u001b[0;36mmainloop\u001b[1;34m(n)\u001b[0m\n\u001b[0;32m    558\u001b[0m \u001b[1;32mdef\u001b[0m \u001b[0mmainloop\u001b[0m\u001b[1;33m(\u001b[0m\u001b[0mn\u001b[0m\u001b[1;33m=\u001b[0m\u001b[1;36m0\u001b[0m\u001b[1;33m)\u001b[0m\u001b[1;33m:\u001b[0m\u001b[1;33m\u001b[0m\u001b[1;33m\u001b[0m\u001b[0m\n\u001b[0;32m    559\u001b[0m     \u001b[1;34m\"\"\"Run the main loop of Tcl.\"\"\"\u001b[0m\u001b[1;33m\u001b[0m\u001b[1;33m\u001b[0m\u001b[0m\n\u001b[1;32m--> 560\u001b[1;33m     \u001b[0m_default_root\u001b[0m\u001b[1;33m.\u001b[0m\u001b[0mtk\u001b[0m\u001b[1;33m.\u001b[0m\u001b[0mmainloop\u001b[0m\u001b[1;33m(\u001b[0m\u001b[0mn\u001b[0m\u001b[1;33m)\u001b[0m\u001b[1;33m\u001b[0m\u001b[1;33m\u001b[0m\u001b[0m\n\u001b[0m\u001b[0;32m    561\u001b[0m \u001b[1;33m\u001b[0m\u001b[0m\n\u001b[0;32m    562\u001b[0m \u001b[0mgetint\u001b[0m \u001b[1;33m=\u001b[0m \u001b[0mint\u001b[0m\u001b[1;33m\u001b[0m\u001b[1;33m\u001b[0m\u001b[0m\n",
      "\u001b[1;31mKeyboardInterrupt\u001b[0m: "
     ]
    }
   ],
   "source": [
    "from turtle import *\n",
    "\n",
    "def drawTriangle(points, color, myTurtle):\n",
    "    myTurtle.fillcolor(color)\n",
    "    myTurtle.up()\n",
    "    myTurtle.goto(points[0])\n",
    "    myTurtle.down()\n",
    "    # 开始填充区域\n",
    "    myTurtle.begin_fill()\n",
    "    myTurtle.goto(points[1])\n",
    "    myTurtle.goto(points[2])\n",
    "    myTurtle.goto(points[0])\n",
    "    myTurtle.end_fill()\n",
    "\n",
    "def getMid(p1, p2):\n",
    "    return ( ( p1[0]+p2[0] ) / 2, ( p1[1]+p2[1] ) / 2)\n",
    "\n",
    "def sierpinski(points, degree, myTurtle):\n",
    "    colormap = [\"blue\", \"red\", \"green\", \"white\", \"yellow\", \"violet\", \"orange\"]\n",
    "    drawTriangle(points, colormap[degree], myTurtle)\n",
    "    if degree > 0:\n",
    "        # 左\n",
    "        sierpinski( [points[0], \n",
    "                         getMid(points[0], points[1]), \n",
    "                         getMid(points[0], points[2])], \n",
    "                   degree - 1, myTurtle)\n",
    "        # 上\n",
    "        sierpinski( [points[1], \n",
    "                         getMid(points[0], points[1]), \n",
    "                         getMid(points[1], points[2])], \n",
    "                   degree - 1, myTurtle)\n",
    "        # 右\n",
    "        sierpinski( [points[2], \n",
    "                         getMid(points[2], points[1]), \n",
    "                         getMid(points[0], points[2])], \n",
    "                   degree - 1, myTurtle)\n",
    "myTurtle = Turtle()\n",
    "myWin = myTurtle.getscreen()\n",
    "myPoints = [(-500, -250), (0, 500), (500, -250)]\n",
    "sierpinski(myPoints, 5, myTurtle)\n",
    "myWin.exitonclick()"
   ]
  },
  {
   "cell_type": "markdown",
   "id": "cc1f99b4-6796-4f64-b00b-308eb1525b47",
   "metadata": {},
   "source": [
    "# 复杂的递归问题"
   ]
  },
  {
   "cell_type": "code",
   "execution_count": 3,
   "id": "17443a64-9096-442b-b55e-af1c131a1006",
   "metadata": {},
   "outputs": [
    {
     "name": "stdout",
     "output_type": "stream",
     "text": [
      "Moving disk[1] from #1 to #3\n",
      "Moving disk[2] from #1 to #2\n",
      "Moving disk[1] from #3 to #2\n",
      "Moving disk[3] from #1 to #3\n",
      "Moving disk[1] from #2 to #1\n",
      "Moving disk[2] from #2 to #3\n",
      "Moving disk[1] from #1 to #3\n"
     ]
    }
   ],
   "source": [
    "# 汉诺塔问题\n",
    "def moveTower(height, fromPole, withPole, toPole):\n",
    "    if height >= 1:\n",
    "        moveTower(height - 1, fromPole, toPole, withPole)\n",
    "        moveDisk(height, fromPole, toPole)\n",
    "        moveTower(height - 1, withPole, fromPole, toPole)\n",
    "def moveDisk(disk, fromPole, toPole):\n",
    "    print(f\"Moving disk[{disk}] from {fromPole} to {toPole}\")\n",
    "\n",
    "moveTower(3, '#1', '#2', '#3')"
   ]
  },
  {
   "cell_type": "markdown",
   "id": "2bab872c-daae-4be5-9cb9-25b6a43c1093",
   "metadata": {},
   "source": [
    "# 探索迷宫"
   ]
  },
  {
   "cell_type": "code",
   "execution_count": 8,
   "id": "2d138d8e-e937-47b2-b34d-9b424d00aedd",
   "metadata": {},
   "outputs": [
    {
     "ename": "Terminator",
     "evalue": "",
     "output_type": "error",
     "traceback": [
      "\u001b[1;31m---------------------------------------------------------------------------\u001b[0m",
      "\u001b[1;31mTerminator\u001b[0m                                Traceback (most recent call last)",
      "\u001b[1;32m<ipython-input-8-42761580b056>\u001b[0m in \u001b[0;36m<module>\u001b[1;34m\u001b[0m\n\u001b[0;32m    113\u001b[0m         \u001b[0mOBSTACLE\u001b[0m \u001b[1;33m=\u001b[0m \u001b[1;34m'+'\u001b[0m                          \u001b[1;31m#障碍\u001b[0m\u001b[1;33m\u001b[0m\u001b[1;33m\u001b[0m\u001b[0m\n\u001b[0;32m    114\u001b[0m         \u001b[0mDEAD_END\u001b[0m \u001b[1;33m=\u001b[0m \u001b[1;34m'-'\u001b[0m                          \u001b[1;31m#死胡同\u001b[0m\u001b[1;33m\u001b[0m\u001b[1;33m\u001b[0m\u001b[0m\n\u001b[1;32m--> 115\u001b[1;33m         \u001b[0mmyMaze\u001b[0m \u001b[1;33m=\u001b[0m \u001b[0mMaze\u001b[0m\u001b[1;33m(\u001b[0m\u001b[1;34m'maze.txt'\u001b[0m\u001b[1;33m)\u001b[0m       \u001b[1;31m#实例化迷宫类，maze文件是使用“+”字符作为墙壁围出空心正方形空间，并用字母“S”来表示起始位置的迷宫文本文件。\u001b[0m\u001b[1;33m\u001b[0m\u001b[1;33m\u001b[0m\u001b[0m\n\u001b[0m\u001b[0;32m    116\u001b[0m         \u001b[0mmyMaze\u001b[0m\u001b[1;33m.\u001b[0m\u001b[0mdrawMaze\u001b[0m\u001b[1;33m(\u001b[0m\u001b[1;33m)\u001b[0m                       \u001b[1;31m#在屏幕上绘制迷宫。\u001b[0m\u001b[1;33m\u001b[0m\u001b[1;33m\u001b[0m\u001b[0m\n\u001b[0;32m    117\u001b[0m         \u001b[0msearchFrom\u001b[0m\u001b[1;33m(\u001b[0m\u001b[0mmyMaze\u001b[0m\u001b[1;33m,\u001b[0m \u001b[0mmyMaze\u001b[0m\u001b[1;33m.\u001b[0m\u001b[0mstartRow\u001b[0m\u001b[1;33m,\u001b[0m \u001b[0mmyMaze\u001b[0m\u001b[1;33m.\u001b[0m\u001b[0mstartCol\u001b[0m\u001b[1;33m)\u001b[0m    \u001b[1;31m#探索迷宫\u001b[0m\u001b[1;33m\u001b[0m\u001b[1;33m\u001b[0m\u001b[0m\n",
      "\u001b[1;32m<ipython-input-8-42761580b056>\u001b[0m in \u001b[0;36m__init__\u001b[1;34m(self, mazeFileName)\u001b[0m\n\u001b[0;32m     26\u001b[0m                 \u001b[0mself\u001b[0m\u001b[1;33m.\u001b[0m\u001b[0mxTranslate\u001b[0m \u001b[1;33m=\u001b[0m \u001b[1;33m-\u001b[0m\u001b[0mcolumnsInMaze\u001b[0m\u001b[1;33m/\u001b[0m\u001b[1;36m2\u001b[0m              \u001b[1;31m#设置迷宫左上角的初始x坐标\u001b[0m\u001b[1;33m\u001b[0m\u001b[1;33m\u001b[0m\u001b[0m\n\u001b[0;32m     27\u001b[0m                 \u001b[0mself\u001b[0m\u001b[1;33m.\u001b[0m\u001b[0myTranslate\u001b[0m \u001b[1;33m=\u001b[0m \u001b[0mrowsInMaze\u001b[0m\u001b[1;33m/\u001b[0m\u001b[1;36m2\u001b[0m                  \u001b[1;31m#设置迷宫左上角的初始y坐标\u001b[0m\u001b[1;33m\u001b[0m\u001b[1;33m\u001b[0m\u001b[0m\n\u001b[1;32m---> 28\u001b[1;33m                 \u001b[0mself\u001b[0m\u001b[1;33m.\u001b[0m\u001b[0mt\u001b[0m \u001b[1;33m=\u001b[0m \u001b[0mturtle\u001b[0m\u001b[1;33m.\u001b[0m\u001b[0mTurtle\u001b[0m\u001b[1;33m(\u001b[0m\u001b[1;33m)\u001b[0m                                \u001b[1;31m#创建一个海龟对象\u001b[0m\u001b[1;33m\u001b[0m\u001b[1;33m\u001b[0m\u001b[0m\n\u001b[0m\u001b[0;32m     29\u001b[0m                 \u001b[0mself\u001b[0m\u001b[1;33m.\u001b[0m\u001b[0mt\u001b[0m\u001b[1;33m.\u001b[0m\u001b[0mshape\u001b[0m\u001b[1;33m(\u001b[0m\u001b[1;34m'turtle'\u001b[0m\u001b[1;33m)\u001b[0m                                  \u001b[1;31m#给当前指示点设置样式(类似鼠标箭头)，海龟形状为参数指定的形状名，指定的形状名应存在于TurtleScreen的shape字典中。多边形的形状初始时有以下几种：\"arrow\", \"turtle\", \"circle\", \"square\", \"triangle\", \"classic\"。\u001b[0m\u001b[1;33m\u001b[0m\u001b[1;33m\u001b[0m\u001b[0m\n\u001b[0;32m     30\u001b[0m                 \u001b[0mself\u001b[0m\u001b[1;33m.\u001b[0m\u001b[0mwn\u001b[0m \u001b[1;33m=\u001b[0m \u001b[0mturtle\u001b[0m\u001b[1;33m.\u001b[0m\u001b[0mScreen\u001b[0m\u001b[1;33m(\u001b[0m\u001b[1;33m)\u001b[0m                               \u001b[1;31m#创建一个能在里面作图的窗口\u001b[0m\u001b[1;33m\u001b[0m\u001b[1;33m\u001b[0m\u001b[0m\n",
      "\u001b[1;32mD:\\Anaconda3\\lib\\turtle.py\u001b[0m in \u001b[0;36m__init__\u001b[1;34m(self, shape, undobuffersize, visible)\u001b[0m\n\u001b[0;32m   3814\u001b[0m                            \u001b[0mshape\u001b[0m\u001b[1;33m=\u001b[0m\u001b[0mshape\u001b[0m\u001b[1;33m,\u001b[0m\u001b[1;33m\u001b[0m\u001b[1;33m\u001b[0m\u001b[0m\n\u001b[0;32m   3815\u001b[0m                            \u001b[0mundobuffersize\u001b[0m\u001b[1;33m=\u001b[0m\u001b[0mundobuffersize\u001b[0m\u001b[1;33m,\u001b[0m\u001b[1;33m\u001b[0m\u001b[1;33m\u001b[0m\u001b[0m\n\u001b[1;32m-> 3816\u001b[1;33m                            visible=visible)\n\u001b[0m\u001b[0;32m   3817\u001b[0m \u001b[1;33m\u001b[0m\u001b[0m\n\u001b[0;32m   3818\u001b[0m \u001b[0mPen\u001b[0m \u001b[1;33m=\u001b[0m \u001b[0mTurtle\u001b[0m\u001b[1;33m\u001b[0m\u001b[1;33m\u001b[0m\u001b[0m\n",
      "\u001b[1;32mD:\\Anaconda3\\lib\\turtle.py\u001b[0m in \u001b[0;36m__init__\u001b[1;34m(self, canvas, shape, undobuffersize, visible)\u001b[0m\n\u001b[0;32m   2555\u001b[0m         \u001b[0mself\u001b[0m\u001b[1;33m.\u001b[0m\u001b[0m_undobuffersize\u001b[0m \u001b[1;33m=\u001b[0m \u001b[0mundobuffersize\u001b[0m\u001b[1;33m\u001b[0m\u001b[1;33m\u001b[0m\u001b[0m\n\u001b[0;32m   2556\u001b[0m         \u001b[0mself\u001b[0m\u001b[1;33m.\u001b[0m\u001b[0mundobuffer\u001b[0m \u001b[1;33m=\u001b[0m \u001b[0mTbuffer\u001b[0m\u001b[1;33m(\u001b[0m\u001b[0mundobuffersize\u001b[0m\u001b[1;33m)\u001b[0m\u001b[1;33m\u001b[0m\u001b[1;33m\u001b[0m\u001b[0m\n\u001b[1;32m-> 2557\u001b[1;33m         \u001b[0mself\u001b[0m\u001b[1;33m.\u001b[0m\u001b[0m_update\u001b[0m\u001b[1;33m(\u001b[0m\u001b[1;33m)\u001b[0m\u001b[1;33m\u001b[0m\u001b[1;33m\u001b[0m\u001b[0m\n\u001b[0m\u001b[0;32m   2558\u001b[0m \u001b[1;33m\u001b[0m\u001b[0m\n\u001b[0;32m   2559\u001b[0m     \u001b[1;32mdef\u001b[0m \u001b[0mreset\u001b[0m\u001b[1;33m(\u001b[0m\u001b[0mself\u001b[0m\u001b[1;33m)\u001b[0m\u001b[1;33m:\u001b[0m\u001b[1;33m\u001b[0m\u001b[1;33m\u001b[0m\u001b[0m\n",
      "\u001b[1;32mD:\\Anaconda3\\lib\\turtle.py\u001b[0m in \u001b[0;36m_update\u001b[1;34m(self)\u001b[0m\n\u001b[0;32m   2658\u001b[0m             \u001b[1;32mreturn\u001b[0m\u001b[1;33m\u001b[0m\u001b[1;33m\u001b[0m\u001b[0m\n\u001b[0;32m   2659\u001b[0m         \u001b[1;32melif\u001b[0m \u001b[0mscreen\u001b[0m\u001b[1;33m.\u001b[0m\u001b[0m_tracing\u001b[0m \u001b[1;33m==\u001b[0m \u001b[1;36m1\u001b[0m\u001b[1;33m:\u001b[0m\u001b[1;33m\u001b[0m\u001b[1;33m\u001b[0m\u001b[0m\n\u001b[1;32m-> 2660\u001b[1;33m             \u001b[0mself\u001b[0m\u001b[1;33m.\u001b[0m\u001b[0m_update_data\u001b[0m\u001b[1;33m(\u001b[0m\u001b[1;33m)\u001b[0m\u001b[1;33m\u001b[0m\u001b[1;33m\u001b[0m\u001b[0m\n\u001b[0m\u001b[0;32m   2661\u001b[0m             \u001b[0mself\u001b[0m\u001b[1;33m.\u001b[0m\u001b[0m_drawturtle\u001b[0m\u001b[1;33m(\u001b[0m\u001b[1;33m)\u001b[0m\u001b[1;33m\u001b[0m\u001b[1;33m\u001b[0m\u001b[0m\n\u001b[0;32m   2662\u001b[0m             \u001b[0mscreen\u001b[0m\u001b[1;33m.\u001b[0m\u001b[0m_update\u001b[0m\u001b[1;33m(\u001b[0m\u001b[1;33m)\u001b[0m                  \u001b[1;31m# TurtleScreenBase\u001b[0m\u001b[1;33m\u001b[0m\u001b[1;33m\u001b[0m\u001b[0m\n",
      "\u001b[1;32mD:\\Anaconda3\\lib\\turtle.py\u001b[0m in \u001b[0;36m_update_data\u001b[1;34m(self)\u001b[0m\n\u001b[0;32m   2644\u001b[0m \u001b[1;33m\u001b[0m\u001b[0m\n\u001b[0;32m   2645\u001b[0m     \u001b[1;32mdef\u001b[0m \u001b[0m_update_data\u001b[0m\u001b[1;33m(\u001b[0m\u001b[0mself\u001b[0m\u001b[1;33m)\u001b[0m\u001b[1;33m:\u001b[0m\u001b[1;33m\u001b[0m\u001b[1;33m\u001b[0m\u001b[0m\n\u001b[1;32m-> 2646\u001b[1;33m         \u001b[0mself\u001b[0m\u001b[1;33m.\u001b[0m\u001b[0mscreen\u001b[0m\u001b[1;33m.\u001b[0m\u001b[0m_incrementudc\u001b[0m\u001b[1;33m(\u001b[0m\u001b[1;33m)\u001b[0m\u001b[1;33m\u001b[0m\u001b[1;33m\u001b[0m\u001b[0m\n\u001b[0m\u001b[0;32m   2647\u001b[0m         \u001b[1;32mif\u001b[0m \u001b[0mself\u001b[0m\u001b[1;33m.\u001b[0m\u001b[0mscreen\u001b[0m\u001b[1;33m.\u001b[0m\u001b[0m_updatecounter\u001b[0m \u001b[1;33m!=\u001b[0m \u001b[1;36m0\u001b[0m\u001b[1;33m:\u001b[0m\u001b[1;33m\u001b[0m\u001b[1;33m\u001b[0m\u001b[0m\n\u001b[0;32m   2648\u001b[0m             \u001b[1;32mreturn\u001b[0m\u001b[1;33m\u001b[0m\u001b[1;33m\u001b[0m\u001b[0m\n",
      "\u001b[1;32mD:\\Anaconda3\\lib\\turtle.py\u001b[0m in \u001b[0;36m_incrementudc\u001b[1;34m(self)\u001b[0m\n\u001b[0;32m   1290\u001b[0m         \u001b[1;32mif\u001b[0m \u001b[1;32mnot\u001b[0m \u001b[0mTurtleScreen\u001b[0m\u001b[1;33m.\u001b[0m\u001b[0m_RUNNING\u001b[0m\u001b[1;33m:\u001b[0m\u001b[1;33m\u001b[0m\u001b[1;33m\u001b[0m\u001b[0m\n\u001b[0;32m   1291\u001b[0m             \u001b[0mTurtleScreen\u001b[0m\u001b[1;33m.\u001b[0m\u001b[0m_RUNNING\u001b[0m \u001b[1;33m=\u001b[0m \u001b[1;32mTrue\u001b[0m\u001b[1;33m\u001b[0m\u001b[1;33m\u001b[0m\u001b[0m\n\u001b[1;32m-> 1292\u001b[1;33m             \u001b[1;32mraise\u001b[0m \u001b[0mTerminator\u001b[0m\u001b[1;33m\u001b[0m\u001b[1;33m\u001b[0m\u001b[0m\n\u001b[0m\u001b[0;32m   1293\u001b[0m         \u001b[1;32mif\u001b[0m \u001b[0mself\u001b[0m\u001b[1;33m.\u001b[0m\u001b[0m_tracing\u001b[0m \u001b[1;33m>\u001b[0m \u001b[1;36m0\u001b[0m\u001b[1;33m:\u001b[0m\u001b[1;33m\u001b[0m\u001b[1;33m\u001b[0m\u001b[0m\n\u001b[0;32m   1294\u001b[0m             \u001b[0mself\u001b[0m\u001b[1;33m.\u001b[0m\u001b[0m_updatecounter\u001b[0m \u001b[1;33m+=\u001b[0m \u001b[1;36m1\u001b[0m\u001b[1;33m\u001b[0m\u001b[1;33m\u001b[0m\u001b[0m\n",
      "\u001b[1;31mTerminator\u001b[0m: "
     ]
    }
   ],
   "source": [
    "import turtle\n",
    "\n",
    "# 迷宫类 \n",
    "class Maze(object):\n",
    "\t# 读取迷宫数据，初始化迷宫内部，并找到海龟初始位置。\n",
    "\tdef __init__(self, mazeFileName):\n",
    "\t\trowsInMaze = 0\t\t\t\t\t\t\t#初始化迷宫行数\n",
    "\t\tcolumnsInMaze = 0 \t\t\t\t\t\t#初始化迷宫列数\n",
    "\t\tself.mazelist = []\t\t\t\t\t\t#初始化迷宫列表\n",
    "\t\tmazeFile = open(mazeFileName, 'r')\t\t#读取迷宫文件\n",
    "\t\tfor line in mazeFile:\t\t\t\t\t#按行读取\n",
    "\t\t\trowList = [] \t\t\t\t\t\t#初始化行列表\n",
    "\t\t\tcol = 0 \t\t\t\t\t\t\t#初始化列\n",
    "\t\t\t# for ch in line[:-1]:\t\t\t\t#这样会丢失最后一列\n",
    "\t\t\tfor ch in line:\t\t\t\t\t\t#按列读取\n",
    "\t\t\t\trowList.append(ch)\t\t\t\t#添加到行列表\n",
    "\t\t\t\tif ch == 'S':\t\t\t\t\t#S为乌龟初始位置，即迷宫起点\n",
    "\t\t\t\t\tself.startRow = rowsInMaze\t#乌龟初始行\n",
    "\t\t\t\t\tself.startCol = col \t\t#乌龟初始列\n",
    "\t\t\t\tcol = col + 1 \t\t\t\t\t#下一列\n",
    "\t\t\trowsInMaze = rowsInMaze + 1 \t\t#下一行\n",
    "\t\t\tself.mazelist.append(rowList)\t\t#行列表添加到迷宫列表\n",
    "\t\t\tcolumnsInMaze = len(rowList) \t\t#获取迷宫总列数\n",
    "\t\tself.rowsInMaze = rowsInMaze \t\t\t#设置迷宫总行数\n",
    "\t\tself.columnsInMaze = columnsInMaze\t\t#设置迷宫总列数\n",
    "\t\tself.xTranslate = -columnsInMaze/2 \t\t#设置迷宫左上角的初始x坐标\n",
    "\t\tself.yTranslate = rowsInMaze/2 \t\t\t#设置迷宫左上角的初始y坐标\n",
    "\t\tself.t = turtle.Turtle()\t\t\t\t#创建一个海龟对象\n",
    "\t\tself.t.shape('turtle')\t\t\t\t\t#给当前指示点设置样式(类似鼠标箭头)，海龟形状为参数指定的形状名，指定的形状名应存在于TurtleScreen的shape字典中。多边形的形状初始时有以下几种：\"arrow\", \"turtle\", \"circle\", \"square\", \"triangle\", \"classic\"。\n",
    "\t\tself.wn = turtle.Screen()\t\t\t\t#创建一个能在里面作图的窗口\n",
    "\t\tself.wn.setworldcoordinates(-columnsInMaze/2, -rowsInMaze/2, columnsInMaze/2, rowsInMaze/2)\t\t\t#设置世界坐标系，原点在迷宫正中心。参数依次为画布左下角x轴坐标、左下角y轴坐标、右上角x轴坐标、右上角y轴坐标\n",
    "\n",
    "\t# 在屏幕上绘制迷宫\n",
    "\tdef drawMaze(self):\n",
    "\t\tself.t.speed(20)\t\t\t\t\t\t#绘图速度\n",
    "\t\tfor y in range(self.rowsInMaze):\t\t#按单元格依次循环迷宫\n",
    "\t\t\tfor x in range(self.columnsInMaze):\n",
    "\t\t\t\tif self.mazelist[y][x] == OBSTACLE:\t#如果迷宫列表的该位置为障碍物，则画方块\n",
    "\t\t\t\t\tself.drawCenteredBox(x + self.xTranslate, -y + self.yTranslate, 'orange')\n",
    "\n",
    "\t# 画方块\n",
    "\tdef drawCenteredBox(self, x, y, color):\n",
    "\t\tself.t.up()\t\t\t\t\t\t\t\t#画笔抬起\n",
    "\t\tself.t.goto(x - 0.5, y - 0.5)\t\t\t#前往参数位置，此处0.5偏移量的作用是使乌龟的探索路线在单元格的正中心位置\n",
    "\t\tself.t.color(color)\t\t\t\t\t\t#方块边框为橙色\n",
    "\t\tself.t.fillcolor('green')\t\t\t\t#方块内填充绿色\n",
    "\t\tself.t.setheading(90)\t\t\t\t\t#设置海龟的朝向，标准模式：0 - 东，90 - 北，180 - 西，270 - 南。logo模式：0 - 北，90 - 东，180 - 南，270 - 西。\n",
    "\t\tself.t.down()\t\t\t\t\t\t\t#画笔落下\n",
    "\t\tself.t.begin_fill()\t\t\t\t\t\t#开始填充\n",
    "\t\tfor i in range(4):\t\t\t\t\t\t#画方块边框\n",
    "\t\t\tself.t.forward(1)\t\t\t\t\t#前进1个单位\n",
    "\t\t\tself.t.right(90)\t\t\t\t\t#右转90度\n",
    "\t\tself.t.end_fill()\t\t\t\t\t\t#结束填充\n",
    "\n",
    "\t# 移动海龟\n",
    "\tdef moveTurtle(self, x, y):\n",
    "\t\tself.t.up()\t\t\t\t\t\t\t\t#画笔抬起\n",
    "\t\tself.t.setheading(self.t.towards(x + self.xTranslate, -y + self.yTranslate))\t#setheading()设置海龟朝向，towards()从海龟位置到由(x, y)，矢量或另一海龟位置连线的夹角。此数值依赖于海龟初始朝向，由\"standard\"、\"world\"或\"logo\" 模式设置所决定。\n",
    "\t\tself.t.goto(x + self.xTranslate, -y + self.yTranslate)\t#前往目标位置\n",
    "\n",
    "\t# 画路径圆点\n",
    "\tdef dropBreadcrumb(self, color):\n",
    "\t\tself.t.dot(color)\t\t\t\t\t\t#dot(size=None, color)画路径圆点\n",
    "\n",
    "\t# 用以更新迷宫内的状态及在窗口中改变海龟位置，行列参数为乌龟的初始坐标。\n",
    "\tdef updatePosition(self, row, col, val):\n",
    "\t\tself.mazelist[row][col] = val \t\t\t#设置该标记状态为当前单元格的值\n",
    "\t\tself.moveTurtle(col, row)\t\t\t\t#移动海龟\n",
    "\t\tif val == PART_OF_PATH: \t\t\t\t#其中一条成功路径的圆点的颜色\n",
    "\t\t\tcolor = 'green'\n",
    "\t\telif val == TRIED:\t\t\t\t\t\t#尝试用的圆点的颜色\n",
    "\t\t\tcolor = 'black'\n",
    "\t\telif val == DEAD_END:\t\t\t\t\t#死胡同用的圆点的颜色\n",
    "\t\t\tcolor = 'red'\n",
    "\t\tself.dropBreadcrumb(color)\t\t\t\t#画路径圆点并上色\n",
    "\n",
    "\t# 用以判断当前位置是否为出口。\n",
    "\tdef isExit(self, row, col):\n",
    "\t\treturn (row == 0 or row == self.rowsInMaze - 1 or col == 0 or col == self.columnsInMaze - 1)\t\t\t\t\t\t\t\t#根据海龟位置是否在迷宫的4个边线位置判断\n",
    "\n",
    "\t# 返回键对应的值，影响searchFrom()中maze[startRow][startColumn]值的获取\n",
    "\tdef __getitem__(self, key):\n",
    "\t\treturn self.mazelist[key]\n",
    "\n",
    "# 探索迷宫，注意此函数包括三个参数：一个迷宫对象、起始行、起始列。\n",
    "def searchFrom(maze, startRow, startColumn):\n",
    "\t# 从初始位置开始尝试四个方向，直到找到出路。\n",
    "\t# 1. 遇到障碍\n",
    "\tif maze[startRow][startColumn] == OBSTACLE:\n",
    "\t\treturn False\n",
    "\t# 2. 发现已经探索过的路径或死胡同\n",
    "\tif maze[startRow][startColumn] == TRIED or maze[startRow][startColumn]== DEAD_END:\n",
    "\t\treturn False\n",
    "\t# 3. 发现出口\n",
    "\tif maze.isExit(startRow, startColumn):\n",
    "\t\tmaze.updatePosition(startRow, startColumn, PART_OF_PATH)#显示出口位置，注释则不显示此点\n",
    "\t\treturn True\n",
    "\tmaze.updatePosition(startRow, startColumn, TRIED)#更新迷宫状态、设置海龟初始位置并开始尝试\n",
    "\t# 4. 依次尝试每个方向\n",
    "\tfound = searchFrom(maze, startRow - 1, startColumn) or \\\n",
    "            searchFrom(maze, startRow + 1, startColumn) or \\\n",
    "            searchFrom(maze, startRow, startColumn - 1) or \\\n",
    "            searchFrom(maze, startRow, startColumn + 1)\n",
    "\tif found:\t\t\t\t\t\t\t\t\t\t\t\t\t#找到出口\n",
    "\t\tmaze.updatePosition(startRow, startColumn, PART_OF_PATH)#返回其中一条正确路径\n",
    "\telse:\t\t\t\t\t\t\t\t\t\t\t\t\t\t#4个方向均是死胡同\n",
    "\t\tmaze.updatePosition(startRow, startColumn, DEAD_END)\n",
    "\treturn found\n",
    "\n",
    "if __name__ == '__main__':\n",
    "\tPART_OF_PATH = 'O'\t\t\t#部分路径\n",
    "\tTRIED = '.'\t\t\t\t\t#尝试\n",
    "\tOBSTACLE = '+'\t\t\t\t#障碍\n",
    "\tDEAD_END = '-'\t\t\t\t#死胡同\n",
    "\tmyMaze = Maze('maze.txt')\t#实例化迷宫类，maze文件是使用“+”字符作为墙壁围出空心正方形空间，并用字母“S”来表示起始位置的迷宫文本文件。\n",
    "\tmyMaze.drawMaze()\t\t\t#在屏幕上绘制迷宫。\n",
    "\tsearchFrom(myMaze, myMaze.startRow, myMaze.startCol)\t#探索迷宫"
   ]
  },
  {
   "cell_type": "markdown",
   "id": "1c3cda2d-c00e-4fe0-ab19-5cb7b81745fb",
   "metadata": {},
   "source": [
    "# 动态规划"
   ]
  },
  {
   "cell_type": "code",
   "execution_count": 1,
   "id": "095a89e1-87cf-4d32-a1a0-9e7c695c4d5d",
   "metadata": {},
   "outputs": [],
   "source": [
    "# 分治策略: 将问题分解成若干个小问题, 个个解决之后, 汇总问题的结果\n",
    "# 贪心策略: 我们每次试图解决问题的尽量大的一部分"
   ]
  },
  {
   "cell_type": "code",
   "execution_count": 4,
   "id": "12de94ce-0cb5-4e5c-8b85-8876cd47d889",
   "metadata": {},
   "outputs": [
    {
     "data": {
      "text/plain": [
       "6"
      ]
     },
     "execution_count": 4,
     "metadata": {},
     "output_type": "execute_result"
    }
   ],
   "source": [
    "# 找零问题\n",
    "## 1.贪心解法\n",
    "## 2.递归解法\n",
    "def recMC(coinValueList, change):\n",
    "    minCoins = change\n",
    "    if change in coinValueList:\n",
    "        return 1\n",
    "    else:\n",
    "        for i in [c for c in coinValueList if c <= change]:\n",
    "            numCoins = 1 + recMC(coinValueList, change-i)\n",
    "            if numCoins < minCoins:\n",
    "                minCoins = numCoins\n",
    "    return minCoins\n",
    "recMC([1, 5, 10, 25], 63)"
   ]
  },
  {
   "cell_type": "code",
   "execution_count": 3,
   "id": "e9978f20-6651-496d-9a42-3abe11e5dbf5",
   "metadata": {},
   "outputs": [
    {
     "data": {
      "text/plain": [
       "6"
      ]
     },
     "execution_count": 3,
     "metadata": {},
     "output_type": "execute_result"
    }
   ],
   "source": [
    "# 使用记忆存储方法改进代码\n",
    "def recDC(coinValueList, change, knownResults):\n",
    "    minCoins = change\n",
    "    if change in coinValueList:  # 递归基本结束条件\n",
    "        knownResults[change] = 1  # 记录最优解\n",
    "        return 1\n",
    "    elif knownResults[change] > 0:\n",
    "        return knownResults[change]  # 查表成功, 直接使用最优解\n",
    "    else:\n",
    "        for i in [c for c in coinValueList if c <= change]:\n",
    "            numCoins = 1 + recDC(coinValueList, change - i, knownResults)\n",
    "            if numCoins < minCoins:\n",
    "                minCoins = numCoins\n",
    "                # 找到最优解, 记录到表中\n",
    "                knownResults[change] = minCoins\n",
    "    return minCoins\n",
    "\n",
    "recDC([1, 5, 10, 25], 63, [0]*64)\n"
   ]
  },
  {
   "cell_type": "code",
   "execution_count": 7,
   "id": "1792c3b8-f2c3-4b6b-ad17-5398210f7814",
   "metadata": {},
   "outputs": [
    {
     "data": {
      "text/plain": [
       "6"
      ]
     },
     "execution_count": 7,
     "metadata": {},
     "output_type": "execute_result"
    }
   ],
   "source": [
    "# 使用动态规划方法解题\n",
    "# 大问题的最优解是包含了更小子问题的最优解, 这是最优化问题能够用动态规划策略解决的必要条件\n",
    "def dpMakeChange(coinValueList, change, minCoins):\n",
    "    # 从1分开始到change逐个计算最少硬币数\n",
    "    for cents in range(1, change+1):\n",
    "        # 1.初始化一个最大值\n",
    "        coinCount = cents\n",
    "        # 2.减去每个硬币, 向后查最少硬币数, 同时记录总的最少数\n",
    "        for j in [c for c in coinValueList if c <= cents]:\n",
    "            if minCoins[cents - j] + 1 < coinCount:\n",
    "                coinCount = minCoins[cents - j] + 1\n",
    "        # 3.得到当前最少硬币数, 记录到表中\n",
    "        minCoins[cents] = coinCount\n",
    "    # 返回最后一个结果\n",
    "    return minCoins[change]\n",
    "dpMakeChange([1, 5, 10, 25], 63, [0]*64)"
   ]
  },
  {
   "cell_type": "code",
   "execution_count": 15,
   "id": "0da1f818-2b8d-44d9-ab87-09d520f59a48",
   "metadata": {},
   "outputs": [
    {
     "name": "stdout",
     "output_type": "stream",
     "text": [
      "10\n",
      "21\n",
      "21\n"
     ]
    }
   ],
   "source": [
    "# 如何实现找零问题的硬币组合结果\n",
    "def dpMakeChange(coinValueList, change, minCoins, coinsUsed):\n",
    "    for cents in range(1, change+1):\n",
    "        coinCount = cents\n",
    "        newCoin = 1  # 初始化一下新加的硬币\n",
    "        for j in [c for c in coinValueList if c <= cents]:\n",
    "            if minCoins[cents - j] + 1 < coinCount:\n",
    "                coinCount = minCoins[cents - j] + 1\n",
    "                newCoin = j  # 对应最小数量, 所减的硬币\n",
    "        minCoins[cents] = coinCount \n",
    "        coinsUsed[cents] = newCoin  # 记录本步骤加的1个硬币\n",
    "    return minCoins[change]\n",
    "def printCoins(coinsUsed, change):\n",
    "    coin = change\n",
    "    while coin > 0:\n",
    "        thisCoin = coinsUsed[coin]\n",
    "        print(thisCoin)\n",
    "        coin = coin - thisCoin\n",
    "c1 = [1, 5, 10, 21, 25]\n",
    "coinsUsed = [0] * 64\n",
    "coinCount = [0] * 64\n",
    "dpMakeChange(c1, 63, coinCount, coinsUsed)\n",
    "printCoins(coinsUsed, 52)"
   ]
  },
  {
   "cell_type": "code",
   "execution_count": 9,
   "id": "26ead7ce-2b1a-4b4c-b7d1-f3d71497441b",
   "metadata": {},
   "outputs": [
    {
     "name": "stdout",
     "output_type": "stream",
     "text": [
      "0\n",
      "1\n",
      "2\n"
     ]
    }
   ],
   "source": [
    "# 案例分析\n",
    "# 博物馆大盗问题\n",
    "## item weight value\n",
    "##  1     2     3\n",
    "##  2     3     4\n",
    "##  3     4     8\n",
    "##  4     5     8\n",
    "##  5     9     10\n",
    "# 最多只能负重20kg, 问如何取价值最大?"
   ]
  },
  {
   "cell_type": "code",
   "execution_count": 16,
   "id": "dfe94df2-ed00-48c1-8f19-1452aac8942d",
   "metadata": {},
   "outputs": [],
   "source": [
    "# 定义函数m(i, W): 前i个宝物中, 组合不超过W重量, 得到的最大价值\n",
    "# m(i, W) = max{m(i-1, W), vi + m(i-1, W-wi)}"
   ]
  },
  {
   "cell_type": "code",
   "execution_count": 18,
   "id": "3f5d45d2-b1c1-4244-a3c7-2e4599117074",
   "metadata": {},
   "outputs": [
    {
     "name": "stdout",
     "output_type": "stream",
     "text": [
      "29\n"
     ]
    }
   ],
   "source": [
    "# 宝物的重量和价值\n",
    "tr = [None, {'w':2, 'v':3}, {'w':3, 'v':4},\n",
    "            {'w':4, 'v':8}, {'w':5, 'v':8},\n",
    "            {'w':9, 'v':10}]\n",
    "# 大盗的最大承重\n",
    "max_w = 20\n",
    "\n",
    "# 初始化二维表格m[(i, w)]\n",
    "# 表示前i个宝物中, 最大重量w的组合, 所得到的最大价值\n",
    "# 当i什么都不取, 或w上限为0, 价值均为0\n",
    "m = {(i, w):0 for i in range(len(tr)) for w in range(max_w + 1)}\n",
    "\n",
    "# 逐步填写二维表格\n",
    "for i in range(1, len(tr)):\n",
    "    for w in range(1, max_w + 1):\n",
    "        if tr[i]['w'] > w: # 装不下第i个宝物\n",
    "            m[(i, w)] = m[(i-1), w]\n",
    "        else:\n",
    "            \n",
    "            m[(i, w)] = max(m[(i-1, w)], tr[i]['v'] + m[(i-1, w-tr[i]['w'])])\n",
    "print(m[(len(tr)-1, max_w)])"
   ]
  },
  {
   "cell_type": "code",
   "execution_count": 21,
   "id": "06b9a0f2-7069-4747-baa7-389306a7407d",
   "metadata": {},
   "outputs": [
    {
     "name": "stdout",
     "output_type": "stream",
     "text": [
      "29\n"
     ]
    }
   ],
   "source": [
    "# 使用递归+记忆的方法解决\n",
    "tr = {(2, 3), (3, 4), (4, 8), (5, 8), (9, 10)}\n",
    "max_w = 20\n",
    "m = {}\n",
    "\n",
    "def thief(tr, w):\n",
    "    if tr == set() or w == 0:\n",
    "        m[(tuple(tr), w)] = 0\n",
    "        return 0\n",
    "    elif (tuple(tr), w) in m:\n",
    "        return m[(tuple(tr), w)]\n",
    "    else:\n",
    "        vmax = 0\n",
    "        for t in tr:\n",
    "            if t[0] <= w:\n",
    "                \n",
    "                v = thief(tr-{t}, w-t[0]) + t[1]\n",
    "                vmax = max(vmax, v)\n",
    "        m[(tuple(tr), w)] = vmax\n",
    "        return vmax\n",
    "print(thief(tr, max_w))"
   ]
  },
  {
   "cell_type": "code",
   "execution_count": null,
   "id": "122c5ecf-9042-471d-8ac9-a4a4f7b18659",
   "metadata": {},
   "outputs": [],
   "source": []
  }
 ],
 "metadata": {
  "kernelspec": {
   "display_name": "Python 3",
   "language": "python",
   "name": "python3"
  },
  "language_info": {
   "codemirror_mode": {
    "name": "ipython",
    "version": 3
   },
   "file_extension": ".py",
   "mimetype": "text/x-python",
   "name": "python",
   "nbconvert_exporter": "python",
   "pygments_lexer": "ipython3",
   "version": "3.7.6"
  },
  "toc": {
   "base_numbering": 1,
   "nav_menu": {},
   "number_sections": true,
   "sideBar": true,
   "skip_h1_title": false,
   "title_cell": "Table of Contents",
   "title_sidebar": "Contents",
   "toc_cell": false,
   "toc_position": {},
   "toc_section_display": true,
   "toc_window_display": false
  },
  "toc-autonumbering": true
 },
 "nbformat": 4,
 "nbformat_minor": 5
}

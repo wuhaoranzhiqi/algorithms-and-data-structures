{
 "cells": [
  {
   "cell_type": "markdown",
   "id": "836db4e0",
   "metadata": {},
   "source": [
    "# Python基础"
   ]
  },
  {
   "cell_type": "code",
   "execution_count": 1,
   "id": "53501c4a-9808-4acd-a321-6fd52701faf4",
   "metadata": {},
   "outputs": [],
   "source": [
    "# 类"
   ]
  },
  {
   "cell_type": "code",
   "execution_count": 15,
   "id": "d5c6b7ba",
   "metadata": {},
   "outputs": [],
   "source": [
    "# test\n",
    "class Fraction:\n",
    "    def __init__(self, top, bottom):\n",
    "        self.num = top\n",
    "        self.den = bottom\n",
    "    def __str__(self):\n",
    "        return str(self.num) + '/' + str(self.den)\n",
    "    def __add__(self, otherfraction):\n",
    "        newnum = self.num * otherfraction.den + self.den * otherfraction.num\n",
    "        newden = self.den * otherfraction.den\n",
    "        return Fraction(newnum, newden)\n",
    "    def __ep__(self, other):\n",
    "        firstnum = self.num * other.den\n",
    "        secondnum = other.num * self.den\n",
    "        return firstnum == secondnum\n",
    "    "
   ]
  },
  {
   "cell_type": "code",
   "execution_count": 16,
   "id": "14b17c69-a950-42da-a613-c40e960dcb0b",
   "metadata": {},
   "outputs": [],
   "source": [
    "f1 = Fraction(1, 4)\n",
    "f2 = Fraction(1, 2)\n",
    "f3 = f1 + f2"
   ]
  },
  {
   "cell_type": "code",
   "execution_count": 17,
   "id": "b2564a2c-99a6-4367-8206-99025e7725d9",
   "metadata": {},
   "outputs": [
    {
     "name": "stdout",
     "output_type": "stream",
     "text": [
      "6/8\n"
     ]
    }
   ],
   "source": [
    "print(f3)"
   ]
  },
  {
   "cell_type": "code",
   "execution_count": null,
   "id": "ef7b123a-7ecc-4cbc-ac7b-023eecea2a1a",
   "metadata": {},
   "outputs": [],
   "source": []
  }
 ],
 "metadata": {
  "kernelspec": {
   "display_name": "Python 3",
   "language": "python",
   "name": "python3"
  },
  "language_info": {
   "codemirror_mode": {
    "name": "ipython",
    "version": 3
   },
   "file_extension": ".py",
   "mimetype": "text/x-python",
   "name": "python",
   "nbconvert_exporter": "python",
   "pygments_lexer": "ipython3",
   "version": "3.7.6"
  },
  "toc": {
   "base_numbering": 1,
   "nav_menu": {},
   "number_sections": true,
   "sideBar": true,
   "skip_h1_title": false,
   "title_cell": "Table of Contents",
   "title_sidebar": "Contents",
   "toc_cell": false,
   "toc_position": {},
   "toc_section_display": true,
   "toc_window_display": false
  }
 },
 "nbformat": 4,
 "nbformat_minor": 5
}

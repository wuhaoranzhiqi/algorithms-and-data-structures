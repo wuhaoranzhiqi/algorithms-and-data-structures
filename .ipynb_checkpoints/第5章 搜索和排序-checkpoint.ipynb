{
 "cells": [
  {
   "cell_type": "markdown",
   "id": "6a7aff1e",
   "metadata": {},
   "source": [
    "# 搜索"
   ]
  },
  {
   "cell_type": "markdown",
   "id": "bc27b1fc",
   "metadata": {},
   "source": [
    "## 顺序搜索"
   ]
  },
  {
   "cell_type": "code",
   "execution_count": null,
   "id": "0de0a83b",
   "metadata": {},
   "outputs": [],
   "source": [
    "# 无序列表的顺序搜索\n",
    "def sequentialSearch(alist, item):\n",
    "    pos = 0\n",
    "    found = False\n",
    "    while pos < len(alist) and not found:\n",
    "        if alist[pos] == item:\n",
    "            found = True\n",
    "        else:\n",
    "            pos += 1\n",
    "    return found"
   ]
  },
  {
   "cell_type": "code",
   "execution_count": null,
   "id": "5d184a86",
   "metadata": {},
   "outputs": [],
   "source": [
    "# 有序列表的顺序搜索\n",
    "def orderedSequentialSearch(alist, item):\n",
    "    pos = 0\n",
    "    found = False\n",
    "    stop = False\n",
    "    while pos < len(alist) and not found and not stop:\n",
    "        if alist[pos] == item:\n",
    "            found = True\n",
    "        else:\n",
    "            if alist[pos] > item:\n",
    "                stop = True\n",
    "            else:\n",
    "                pos += 1\n",
    "    return found"
   ]
  },
  {
   "cell_type": "markdown",
   "id": "3fb20404",
   "metadata": {},
   "source": [
    "## 二分搜索"
   ]
  },
  {
   "cell_type": "code",
   "execution_count": null,
   "id": "f53153a2",
   "metadata": {},
   "outputs": [],
   "source": [
    "# O(logn)\n",
    "def binarySearch(alist, item):\n",
    "    first = 0\n",
    "    last = len(alist) - 1\n",
    "    found = False\n",
    "    \n",
    "    # 一定要保留=号\n",
    "    while first <= last and not found:\n",
    "        midpoint = (first + last) // 2\n",
    "        if alist[midpoint] == item:\n",
    "            found = True\n",
    "        else:\n",
    "            if item < alist[midpoint]:\n",
    "                last = midpoint - 1\n",
    "            else:\n",
    "                first = midpoint + 1\n",
    "    return found"
   ]
  },
  {
   "cell_type": "code",
   "execution_count": null,
   "id": "e94dea9f",
   "metadata": {},
   "outputs": [],
   "source": [
    "# 可以用递归 分治的思想解决\n",
    "def binarySearch1(alist, item):\n",
    "    if len(alist) == 0:\n",
    "        return False\n",
    "    else:\n",
    "        midpoint = len(alist) // 2\n",
    "        if alist[midpoint] == item:\n",
    "            return True\n",
    "        else:\n",
    "            if item < alist[midpoint]:\n",
    "                return binarySearch1(alist[:midpoint], item)\n",
    "            else:\n",
    "                return binarySearch1(alist[midpoint+1:], item)"
   ]
  },
  {
   "cell_type": "markdown",
   "id": "483034bf",
   "metadata": {},
   "source": [
    "## 散列"
   ]
  },
  {
   "cell_type": "code",
   "execution_count": null,
   "id": "b8eba94d",
   "metadata": {},
   "outputs": [],
   "source": [
    "# 为字符串创建简单的散列函数\n",
    "def hash(astring, tablesize):\n",
    "    sum = 0\n",
    "    for pos in range(len(astring)):\n",
    "        sum = sum + ord(astring[pos])*(pos+1)\n",
    "    return sum % tablesize"
   ]
  },
  {
   "cell_type": "code",
   "execution_count": null,
   "id": "bb28bd48",
   "metadata": {},
   "outputs": [],
   "source": [
    "# 对于异序词, 可以得到相同的散列值, 那么可以增加权重\n",
    "hash(\"tac\", 11)\n",
    "hash(\"cat\", 11)"
   ]
  },
  {
   "cell_type": "markdown",
   "id": "e035da97",
   "metadata": {},
   "source": [
    "### 使用hashtable实现字典"
   ]
  },
  {
   "cell_type": "code",
   "execution_count": 32,
   "id": "ca1dd731",
   "metadata": {},
   "outputs": [],
   "source": [
    "class HashTable():\n",
    "    def __init__(self):\n",
    "        self.size = 11\n",
    "        self.slots = [None] * self.size\n",
    "        self.data = [None] * self.size\n",
    "    \n",
    "    def put(self, key, data):\n",
    "        hashvalue = self.hashfunction(key, len(self.slots))\n",
    "        \n",
    "        if self.slots[hashvalue] == None:\n",
    "            self.slots[hashvalue] = key\n",
    "            self.data[hashvalue] = data\n",
    "        else:\n",
    "            # 修改value值\n",
    "            if self.slots[hashvalue] == key:\n",
    "                self.data[hashvalue] = data\n",
    "            else:\n",
    "                # 说明冲突了\n",
    "                nextslot = self.rehash(hashvalue, len(self.slots))\n",
    "                    # 有一种情况, 那就是有冲突的key 之前也已经赋值了\n",
    "                while self.slots[nextslot] != None and self.slots[nextslot] != key: # 只有确定了key是那个可以key才赋值\n",
    "                    nextslot = self.rehash(nextslot, len(self.slots))\n",
    "                \n",
    "                if self.slots[nextslot] == None:\n",
    "                    self.slots[nextslot] = key\n",
    "                    self.data[nextslot] = data\n",
    "                elif self.slots[nextslot] == key:\n",
    "                    self.data[nextslot] = data\n",
    "            \n",
    "    def hashfunction(self, key, size):\n",
    "        return key % size\n",
    "    \n",
    "    def rehash(self, oldhash, size):\n",
    "        return (oldhash + 1) % size\n",
    "    \n",
    "    def get(self, key):\n",
    "        startslot = self.hashfunction(key, len(self.slots))\n",
    "        \n",
    "        data = None\n",
    "        stop = False\n",
    "        found = False\n",
    "        position = startslot\n",
    "        # 如果该地址的key为空, 那么也可以停止, 因为插入的时候, 是按顺序插入的\n",
    "        while self.slots[position] != None and not found and not stop:\n",
    "            if self.slots[position] == key:\n",
    "                found = True\n",
    "                data = self.data[position]\n",
    "            else:\n",
    "                position = self.rehash(position, len(self.slots))\n",
    "                if position == startslot:\n",
    "                    stop = True\n",
    "        return data\n",
    "    \n",
    "    # 可以通过索引运算符自动调用get和set方法\n",
    "    def __getitem__(self, key):\n",
    "        return self.get(key)\n",
    "    def __setitem__(self, key, data):\n",
    "        self.put(key, data)"
   ]
  },
  {
   "cell_type": "code",
   "execution_count": 33,
   "id": "e117343a",
   "metadata": {},
   "outputs": [],
   "source": [
    "# test\n",
    "H = HashTable()\n",
    "H[54] = \"cat\"\n",
    "H[26] = \"dog\"\n",
    "H[93] = \"lion\"\n",
    "H[17] = \"tiger\"\n",
    "H[77] = \"bird\"\n",
    "H[31] = \"cow\"\n",
    "H[44] = \"goat\"\n",
    "H[55] = \"pig\"\n",
    "H[20] = \"chicken\""
   ]
  },
  {
   "cell_type": "code",
   "execution_count": 34,
   "id": "092b862c",
   "metadata": {},
   "outputs": [
    {
     "data": {
      "text/plain": [
       "[77, 44, 55, 20, 26, 93, 17, None, None, 31, 54]"
      ]
     },
     "execution_count": 34,
     "metadata": {},
     "output_type": "execute_result"
    }
   ],
   "source": [
    "H.slots\n",
    "H.data"
   ]
  },
  {
   "cell_type": "code",
   "execution_count": 38,
   "id": "308a7273",
   "metadata": {},
   "outputs": [],
   "source": [
    "H[20] = \"ducj\""
   ]
  },
  {
   "cell_type": "markdown",
   "id": "9807fb2b",
   "metadata": {},
   "source": [
    "# 排序"
   ]
  },
  {
   "cell_type": "markdown",
   "id": "8d44136e",
   "metadata": {},
   "source": [
    "## 冒泡排序"
   ]
  },
  {
   "cell_type": "code",
   "execution_count": 2,
   "id": "b0926086",
   "metadata": {},
   "outputs": [],
   "source": [
    "# O(n2)\n",
    "def bubbleSort(alist):\n",
    "    # 第一次需要比较len - 1次\n",
    "    for passnum in range(len(alist)-1, 0, -1):\n",
    "        # 通过i取出下标\n",
    "        for i in range(passnum):\n",
    "            if alist[i] > alist[i+1]:\n",
    "                temp = alist[i]\n",
    "                alist[i] = alist[i+1]\n",
    "                alist[i+1] = temp"
   ]
  },
  {
   "cell_type": "code",
   "execution_count": 9,
   "id": "4354f680",
   "metadata": {},
   "outputs": [],
   "source": [
    "# 修改后的短冒泡排序\n",
    "# O()\n",
    "def shortBubbleSort(alist):\n",
    "    exchanges = True\n",
    "    passnum = len(alist) - 1\n",
    "    while passnum > 0 and exchanges:\n",
    "        exchanges = False\n",
    "        for i in range(passnum):\n",
    "            if alist[i] > alist[i+1]:\n",
    "                exchanges = True\n",
    "                temp = alist[i]\n",
    "                alist[i] = alist[i+1]\n",
    "                alist[i+1] = temp\n",
    "        passnum -= 1\n",
    "    return alist"
   ]
  },
  {
   "cell_type": "markdown",
   "id": "c13a1d4e",
   "metadata": {},
   "source": [
    "## 选择排序"
   ]
  },
  {
   "cell_type": "code",
   "execution_count": 11,
   "id": "6870e372-b589-4a6e-8461-73f5b8c35857",
   "metadata": {},
   "outputs": [],
   "source": [
    "# 在冒泡排序基础上的改进, 每轮只调换一次"
   ]
  },
  {
   "cell_type": "code",
   "execution_count": 13,
   "id": "c0176341",
   "metadata": {},
   "outputs": [],
   "source": [
    "# 交换次数减少了, 但是比较次数没变, 所以时间复杂度没变\n",
    "def selectionSort(alist):\n",
    "    for fillslot in range(len(alist)-1, 0, -1):\n",
    "        positionOfMax = 0\n",
    "        for location in range(1, fillslot+1):\n",
    "            if alist[location] > alist[positionOfMax]:\n",
    "                positionOfMax = location\n",
    "        temp = alist[fillslot]\n",
    "        alist[fillslot] = alist[positionOfMax]\n",
    "        alist[positionOfMax] = temp\n",
    "    return alist"
   ]
  },
  {
   "cell_type": "markdown",
   "id": "21155abb",
   "metadata": {},
   "source": [
    "## 插入排序"
   ]
  },
  {
   "cell_type": "code",
   "execution_count": 16,
   "id": "f93924d7",
   "metadata": {},
   "outputs": [],
   "source": [
    "# 在较低的一端维护列表, 实现插入操作\n",
    "# 如何维护当前的结构, 通过向右蠕动的方式\n",
    "def insertionSort(alist):\n",
    "    # 从index为1开始, 到最后一个元素为止\n",
    "    for index in range(1, len(alist)):\n",
    "        \n",
    "        currentvalue = alist[index]\n",
    "        position = index\n",
    "        # 或者position > 0\n",
    "        while position >= 1 and alist[position - 1] > currentvalue:\n",
    "            alist[position] = alist[position - 1]\n",
    "            position = position - 1\n",
    "        alist[position] = currentvalue\n",
    "        \n",
    "    return alist"
   ]
  },
  {
   "cell_type": "markdown",
   "id": "81528495-1b1d-422c-b1cc-67384b0fbdb9",
   "metadata": {},
   "source": [
    "## 希尔排序"
   ]
  },
  {
   "cell_type": "code",
   "execution_count": 17,
   "id": "1b3e9981-f3eb-405b-9991-3b32659ca175",
   "metadata": {},
   "outputs": [],
   "source": [
    "# 对插入排序做的改进, 将列表分成数个子列表, 每个子列表都使用插入排序\n",
    "def shellSort(alist):\n",
    "    # sublistcount为间隔, 也是组数\n",
    "    \n",
    "    sublistcount = len(alist) // 2\n",
    "    while sublistcount > 0:\n",
    "        for startposition in range(sublistcount):\n",
    "            gapInsertionSort(alist, startposition, sublistcount)\n",
    "        print(\"After increments of size\", sublistcount, \"The list is\", alist)\n",
    "        \n",
    "        sublistcount = sublistcount // 2\n",
    "\n",
    "# 子序列的插入排序\n",
    "def gapInsertionSort(alist, start, gap):\n",
    "    for i in range(start+gap, len(alist)):\n",
    "        currentvalue = alist[i]\n",
    "        position = i\n",
    "        while position >= gap and alist[position-gap] > currentvalue:\n",
    "            alist[position] = alist[position-gap]\n",
    "            position = position - gap\n",
    "        alist[position] = currentvalue"
   ]
  },
  {
   "cell_type": "markdown",
   "id": "9d5a4e43-7bdb-4c68-9b68-d560bb396b0b",
   "metadata": {},
   "source": [
    "## 归并排序"
   ]
  },
  {
   "cell_type": "code",
   "execution_count": 18,
   "id": "7230e7e0-47f3-487e-92bf-ee848174791e",
   "metadata": {},
   "outputs": [],
   "source": [
    "# 通过分治的思想完成排序"
   ]
  },
  {
   "cell_type": "code",
   "execution_count": 1,
   "id": "553e6337-66e9-470b-aa29-40ca2127bd74",
   "metadata": {},
   "outputs": [],
   "source": [
    "def mergeSort(alist):\n",
    "    if len(alist) > 1:\n",
    "        mid = len(alist) // 2\n",
    "        lefthalf = alist[:mid]\n",
    "        righthalf = alist[mid:]\n",
    "        \n",
    "        mergeSort[lefthalf]\n",
    "        mergeSort[righthalf]\n",
    "        \n",
    "        # 双指针的思想\n",
    "        i = 0\n",
    "        j = 0\n",
    "        k = 0\n",
    "        while i < len(lefthalf) and j < len(righthalf):\n",
    "            if lefthalf[i] < righthalf[j]:\n",
    "                alist[k] = lefthalf[i]\n",
    "                i = i + 1\n",
    "            else:\n",
    "                alist[k] = righthalf[j]\n",
    "                j += 1\n",
    "            k += 1\n",
    "        \n",
    "        while i < len(lefthalf):\n",
    "            alist[k] = lefthalf[i]\n",
    "            i += 1\n",
    "            k += 1\n",
    "        \n",
    "        while j < len(righthalf):\n",
    "            alist[k] = righthalf[j]\n",
    "            j += 1\n",
    "            k += 1\n",
    "    print(\"Merging \" + alist)"
   ]
  },
  {
   "cell_type": "code",
   "execution_count": null,
   "id": "5d80b271-c357-4fdb-a8b9-29d4a2f207a8",
   "metadata": {},
   "outputs": [],
   "source": []
  }
 ],
 "metadata": {
  "kernelspec": {
   "display_name": "Python 3",
   "language": "python",
   "name": "python3"
  },
  "language_info": {
   "codemirror_mode": {
    "name": "ipython",
    "version": 3
   },
   "file_extension": ".py",
   "mimetype": "text/x-python",
   "name": "python",
   "nbconvert_exporter": "python",
   "pygments_lexer": "ipython3",
   "version": "3.7.6"
  },
  "toc": {
   "base_numbering": 1,
   "nav_menu": {},
   "number_sections": true,
   "sideBar": true,
   "skip_h1_title": false,
   "title_cell": "Table of Contents",
   "title_sidebar": "Contents",
   "toc_cell": false,
   "toc_position": {},
   "toc_section_display": true,
   "toc_window_display": false
  },
  "toc-autonumbering": true,
  "toc-showcode": false,
  "toc-showmarkdowntxt": false,
  "toc-showtags": false
 },
 "nbformat": 4,
 "nbformat_minor": 5
}

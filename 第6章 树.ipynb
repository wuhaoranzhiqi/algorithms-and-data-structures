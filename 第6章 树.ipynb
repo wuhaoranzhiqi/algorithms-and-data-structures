{
 "cells": [
  {
   "cell_type": "markdown",
   "id": "31b5d5c3-2e07-4aa5-b02d-806c6e5594b2",
   "metadata": {},
   "source": [
    "# 实现"
   ]
  },
  {
   "cell_type": "markdown",
   "id": "b48af5aa-89e9-4e44-a7bc-7144d5338af0",
   "metadata": {},
   "source": [
    "## 列表之列表"
   ]
  },
  {
   "cell_type": "code",
   "execution_count": 2,
   "id": "3d5db60e-2f32-45b0-a553-472369da72fb",
   "metadata": {},
   "outputs": [],
   "source": [
    "# 定义列表函数\n",
    "def BinaryTree(r):\n",
    "    return [r, [], []]\n",
    "\n",
    "# 插入左子树\n",
    "def insertLeft(root, newBranch):\n",
    "    t = root.pop(1)\n",
    "    if len(t) > 1:\n",
    "        root.insert(1, [newBranch, t, []])\n",
    "    else:\n",
    "        root.insert(1, [newBranch, [], []])\n",
    "    return root\n",
    "\n",
    "# 插入右子树\n",
    "def insertRight(root, newBranch):\n",
    "    t = root.pop(2)\n",
    "    if len(t) > 1:\n",
    "        root.insert(2, [newBranch, [], t])\n",
    "    else:\n",
    "        root.insert(2, [newBranch, [], []])\n",
    "    return root\n",
    "\n",
    "# 定义获取函数\n",
    "def getRootVal(root):\n",
    "    return root[0]\n",
    "\n",
    "def setRootVal(root, newVal):\n",
    "    root[0] = newVal\n",
    "\n",
    "def getLeftChild(root):\n",
    "    return root[1]\n",
    "\n",
    "def getRightChild(root):\n",
    "    return root[2]"
   ]
  },
  {
   "cell_type": "code",
   "execution_count": 3,
   "id": "cf1fd769-7f95-43e7-b8aa-05902801f97e",
   "metadata": {},
   "outputs": [
    {
     "data": {
      "text/plain": [
       "[3, [5, [4, [], []], []], [7, [], [6, [], []]]]"
      ]
     },
     "execution_count": 3,
     "metadata": {},
     "output_type": "execute_result"
    }
   ],
   "source": [
    "r = BinaryTree(3)\n",
    "insertLeft(r, 4)\n",
    "insertLeft(r, 5)\n",
    "insertRight(r, 6)\n",
    "insertRight(r, 7)"
   ]
  },
  {
   "cell_type": "code",
   "execution_count": 6,
   "id": "e7e46402-4657-4b0c-8ebc-7831dcd45348",
   "metadata": {},
   "outputs": [],
   "source": [
    "l = getLeftChild(r)\n",
    "setRootVal(l, 9)"
   ]
  },
  {
   "cell_type": "code",
   "execution_count": 9,
   "id": "18fe6373-edbf-4f8b-99fe-7f985063d09e",
   "metadata": {},
   "outputs": [
    {
     "data": {
      "text/plain": [
       "[9, [11, [4, [], []], []], []]"
      ]
     },
     "execution_count": 9,
     "metadata": {},
     "output_type": "execute_result"
    }
   ],
   "source": [
    "insertLeft(l, 11)"
   ]
  },
  {
   "cell_type": "code",
   "execution_count": 11,
   "id": "52ae9ea1-a814-49d6-a3da-24e0e0d8dd43",
   "metadata": {},
   "outputs": [
    {
     "data": {
      "text/plain": [
       "[6, [], []]"
      ]
     },
     "execution_count": 11,
     "metadata": {},
     "output_type": "execute_result"
    }
   ],
   "source": [
    "getRightChild(getRightChild(r))"
   ]
  },
  {
   "cell_type": "markdown",
   "id": "2e4cbcb4-93e2-44d7-b566-41d368010a46",
   "metadata": {},
   "source": [
    "## 节点与引用"
   ]
  },
  {
   "cell_type": "code",
   "execution_count": 1,
   "id": "6d0123da-025e-49fb-beb5-bf0af6f71f6c",
   "metadata": {},
   "outputs": [],
   "source": [
    "# BinaryTree类\n",
    "class BinaryTree:\n",
    "    def __init__(self, rootObj):\n",
    "        self.key = rootObj\n",
    "        self.leftChild = None\n",
    "        self.rightChild = None\n",
    "    def insertLeft(self, newNode):\n",
    "        if self.leftChild == None:\n",
    "            self.leftChild = BinaryTree(newNode)\n",
    "        else:\n",
    "            t = BinaryTree(newNode)\n",
    "            # 先赋值self.leftChild\n",
    "            t.leftChild = self.leftChild\n",
    "            self.leftChild = t\n",
    "    def insertRight(self, newNode):\n",
    "        if self.rightChild == None:\n",
    "            self.rightChild = BinaryTree(newNode)\n",
    "        else:\n",
    "            t = BinaryTree(newNode)\n",
    "            t.rightChild = self.rightChild\n",
    "            self.rightChild = t\n",
    "            \n",
    "    def getRightChild(self):\n",
    "        return self.rightChild\n",
    "    def getLeftChild(self):\n",
    "        return self.leftChild\n",
    "    def setRootVal(self, obj):\n",
    "        self.key = obj\n",
    "    def getRootVal(self):\n",
    "        return self.key\n",
    "    "
   ]
  },
  {
   "cell_type": "code",
   "execution_count": 29,
   "id": "8be87466-fc7d-447d-a179-0f99b7865743",
   "metadata": {},
   "outputs": [
    {
     "data": {
      "text/plain": [
       "'a'"
      ]
     },
     "execution_count": 29,
     "metadata": {},
     "output_type": "execute_result"
    }
   ],
   "source": [
    "r = BinaryTree(\"a\")\n",
    "r.getRootVal()"
   ]
  },
  {
   "cell_type": "code",
   "execution_count": 30,
   "id": "5760152e-e285-4cd0-b95f-a95ff0958582",
   "metadata": {},
   "outputs": [],
   "source": [
    "r.insertLeft(\"b\")"
   ]
  },
  {
   "cell_type": "code",
   "execution_count": 31,
   "id": "34d053d5-d3e4-48f5-82fb-76731f26eedb",
   "metadata": {},
   "outputs": [
    {
     "name": "stdout",
     "output_type": "stream",
     "text": [
      "b\n"
     ]
    }
   ],
   "source": [
    "print(r.getLeftChild().getRootVal())"
   ]
  },
  {
   "cell_type": "code",
   "execution_count": 32,
   "id": "1d65c210-9075-44ba-83b9-1dc64d7ec362",
   "metadata": {},
   "outputs": [
    {
     "name": "stdout",
     "output_type": "stream",
     "text": [
      "c\n"
     ]
    }
   ],
   "source": [
    "r.insertRight(\"c\")\n",
    "print(r.getRightChild().getRootVal())"
   ]
  },
  {
   "cell_type": "code",
   "execution_count": 34,
   "id": "e936f9e0-7791-44f6-9bf0-d8ed2e1dd0eb",
   "metadata": {},
   "outputs": [
    {
     "name": "stdout",
     "output_type": "stream",
     "text": [
      "hello\n"
     ]
    }
   ],
   "source": [
    "r.getRightChild().setRootVal(\"hello\")\n",
    "print(r.getRightChild().getRootVal())"
   ]
  },
  {
   "cell_type": "markdown",
   "id": "8915c689-503e-4a29-865e-abc47792fea7",
   "metadata": {},
   "source": [
    "# 二叉树的应用"
   ]
  },
  {
   "cell_type": "markdown",
   "id": "b30a5190-6aee-437f-b874-81b26b0c5478",
   "metadata": {},
   "source": [
    "## 解析树 "
   ]
  },
  {
   "cell_type": "code",
   "execution_count": 59,
   "id": "4e469578-568e-4ed2-a780-d887d83071a4",
   "metadata": {},
   "outputs": [],
   "source": [
    "from basic import Stack\n",
    "from trees import BinaryTree\n",
    "import operator\n",
    "\n",
    "def buildParseTree(fpexp):\n",
    "    fplist = fpexp.split()\n",
    "    pStack = Stack()\n",
    "    eTree = BinaryTree('')\n",
    "    pStack.push(eTree)\n",
    "    currentTree = eTree\n",
    "    for i in fplist:\n",
    "        if i == \"(\":\n",
    "            currentTree.insertLeft('')\n",
    "            pStack.push(currentTree)\n",
    "            currentTree = currentTree.getLeftChild()\n",
    "        elif i not in \"+-*/)\":\n",
    "            currentTree.setRootVal(eval(i))\n",
    "            parent = pStack.pop()\n",
    "            currentTree = parent\n",
    "        elif i in \"+-*/\":\n",
    "            currentTree.setRootVal(i)\n",
    "            currentTree.insertRight('')\n",
    "            pStack.push(currentTree)\n",
    "            currentTree = currentTree.getRightChild()\n",
    "        elif i == \")\":\n",
    "            currentTree = pStack.pop()\n",
    "        else:\n",
    "            raise ValueError(\"unknown operation: \" + i)\n",
    "    return eTree"
   ]
  },
  {
   "cell_type": "code",
   "execution_count": 66,
   "id": "749f6b31-a643-4430-ac2e-14cf17f769b5",
   "metadata": {},
   "outputs": [],
   "source": [
    "# 计算解析树的函数\n",
    "def evaluate(parseTree):\n",
    "    opers = {'+':operator.add, '-':operator.sub, '*':operator.mul, '/':operator.truediv}\n",
    "    leftC = parseTree.getLeftChild()\n",
    "    rightC = parseTree.getRightChild()\n",
    "    \n",
    "    if leftC and rightC:\n",
    "        fn = opers[parseTree.getRootVal()]\n",
    "        return fn(evaluate(leftC), evaluate(rightC))\n",
    "    else:\n",
    "        return parseTree.getRootVal()"
   ]
  },
  {
   "cell_type": "code",
   "execution_count": 67,
   "id": "06e966d7-32a0-4b78-89ff-a083c332f98a",
   "metadata": {},
   "outputs": [
    {
     "data": {
      "text/plain": [
       "23"
      ]
     },
     "execution_count": 67,
     "metadata": {},
     "output_type": "execute_result"
    }
   ],
   "source": [
    "# test\n",
    "tree1 = buildParseTree(\"( 3 + ( 4 * 5 ) )\")\n",
    "evaluate(tree1)"
   ]
  },
  {
   "cell_type": "markdown",
   "id": "1e3d3aaa-98ce-4670-ab5c-12762011a92e",
   "metadata": {},
   "source": [
    "## 遍历"
   ]
  },
  {
   "cell_type": "code",
   "execution_count": 68,
   "id": "2d97fe8f-f052-45a6-866d-1ef2d9fcfaa7",
   "metadata": {},
   "outputs": [],
   "source": [
    "# 前序遍历\n",
    "def preorder(tree):\n",
    "    if tree:\n",
    "        print(tree.getRootVal())\n",
    "        preorder(tree.getLeftChild())\n",
    "        preorder(tree.getRightChild())"
   ]
  },
  {
   "cell_type": "code",
   "execution_count": null,
   "id": "78d82c3d-0e48-4d58-bb4d-08a39011e476",
   "metadata": {},
   "outputs": [],
   "source": [
    "# 如果是内部实现呢?\n",
    "def preorder(self):\n",
    "    print(self.key)\n",
    "    if self.leftChild:\n",
    "        self.leftChild.preorder()\n",
    "    if self.rightChild:\n",
    "        self.rightChild.preorder()"
   ]
  },
  {
   "cell_type": "code",
   "execution_count": 85,
   "id": "6ecc7e4b-d923-41aa-85a1-24530b257467",
   "metadata": {},
   "outputs": [],
   "source": [
    "# 后序遍历\n",
    "def postorder(tree):\n",
    "    if tree != None:\n",
    "        postorder(tree.getLeftChild())\n",
    "        postorder(tree.getRightChild())\n",
    "        print(tree.getRootVal())"
   ]
  },
  {
   "cell_type": "code",
   "execution_count": 13,
   "id": "ac40a97a-6cf5-4633-8cea-8e39683e8d1a",
   "metadata": {},
   "outputs": [],
   "source": [
    "# 使用后序遍历求解解析树\n",
    "from trees import binaryTree\n",
    "import operator\n",
    "def postordereval(tree):\n",
    "    opers = {'+':operator.add, '-':operator.sub, '*':operator.mul, '/':operator.truediv}\n",
    "    res1 = None\n",
    "    res2 = None\n",
    "    if tree:\n",
    "        res1 = postordereval(tree.getLeftChild())\n",
    "        res2 = postordereval(tree.getRightChild())\n",
    "        if res1 and res2:\n",
    "            return opers[tree.getRootVal()](res1, res2)\n",
    "        else:\n",
    "            return tree.getRootVal()"
   ]
  },
  {
   "cell_type": "code",
   "execution_count": 5,
   "id": "00e95c32-d101-4f5d-99c1-3e2d3c30146b",
   "metadata": {},
   "outputs": [],
   "source": [
    "# 中序遍历\n",
    "def inorder(tree):\n",
    "    if tree != None:\n",
    "        inorder(tree.getLeftChild())\n",
    "        print(tree.getRootVal())\n",
    "        inorder(tree.getRightChild())"
   ]
  },
  {
   "cell_type": "code",
   "execution_count": 19,
   "id": "bb2f6405-81df-4daf-9554-9ae5ff2658ef",
   "metadata": {},
   "outputs": [],
   "source": [
    "# 使用中序遍历还原完全括号形式\n",
    "def printexp(tree):\n",
    "    sVal = \"\"\n",
    "    if tree:\n",
    "        sVal = '(' + printexp(tree.getLeftChild())\n",
    "        sVal = sVal + str(tree.getRootVal())\n",
    "        sVal = sVal + printexp(tree.getRightChild()) + ')'\n",
    "    return sVal"
   ]
  },
  {
   "cell_type": "code",
   "execution_count": 9,
   "id": "b2ec6aaf-9bfe-49d6-bc21-6d54964067a1",
   "metadata": {},
   "outputs": [],
   "source": [
    "x = BinaryTree(\"*\")\n",
    "x.insertLeft(\"+\")\n",
    "x.insertRight(7)"
   ]
  },
  {
   "cell_type": "code",
   "execution_count": 10,
   "id": "98532a03-4f47-40e7-bab2-62dc9fdd4626",
   "metadata": {},
   "outputs": [],
   "source": [
    "l = x.getLeftChild()\n",
    "l.insertLeft(4)\n",
    "l.insertRight(5)"
   ]
  },
  {
   "cell_type": "code",
   "execution_count": 18,
   "id": "8bf3c2da-3419-4f0a-b456-ebd3781920c0",
   "metadata": {},
   "outputs": [
    {
     "name": "stdout",
     "output_type": "stream",
     "text": [
      "((+)*)\n"
     ]
    }
   ],
   "source": [
    "print(printexp(x))"
   ]
  },
  {
   "cell_type": "code",
   "execution_count": 20,
   "id": "52fb06f6-df61-43ad-960b-be9c0464bb91",
   "metadata": {},
   "outputs": [
    {
     "name": "stdout",
     "output_type": "stream",
     "text": [
      "63\n"
     ]
    }
   ],
   "source": [
    "print(postordereval(x))"
   ]
  },
  {
   "cell_type": "markdown",
   "id": "62d4f4ed-ad95-4c1c-824c-5fe80117b608",
   "metadata": {},
   "source": [
    "# 二叉堆实现优先队列"
   ]
  },
  {
   "cell_type": "code",
   "execution_count": null,
   "id": "63702f70-cd23-4159-9c3d-32fbcb75b9bc",
   "metadata": {},
   "outputs": [],
   "source": [
    "# 完全二叉树\n",
    "# 堆次序: 每个路径都是排好序的"
   ]
  },
  {
   "cell_type": "code",
   "execution_count": 38,
   "id": "f0b9658a-f819-421c-8c66-7b2c5071bdb9",
   "metadata": {},
   "outputs": [],
   "source": [
    "class BinaryHeap:\n",
    "    def __init__(self):\n",
    "        self.heapList = [0]\n",
    "        self.currentSize = 0\n",
    "           \n",
    "    def insert(self, k):\n",
    "        self.heapList.append(k)\n",
    "        self.currentSize = self.currentSize + 1\n",
    "        self.percUp(self.currentSize)\n",
    "    def percUp(self, i):\n",
    "        # 会一直比下去, 我认为不是最佳, 如果判断达到条件, 应该停止.\n",
    "        while i // 2 > 0:\n",
    "            if self.heapList[i] < self.heapList[i // 2]:\n",
    "                tmp = self.heapList[i // 2]\n",
    "                self.heapList[i // 2] = self.heapList[i]\n",
    "                self.heapList[i] = tmp\n",
    "            i = i // 2\n",
    " \n",
    "    def delMin(self):\n",
    "        retval = self.heapList[1]\n",
    "        self.heapList[1] = self.heapList[self.currentSize]\n",
    "        self.currentSize = self.currentSize - 1\n",
    "        self.heapList.pop()\n",
    "        self.perDown(1)\n",
    "        return retval\n",
    "    def percDown(self, i):\n",
    "        while (i * 2) <= self.currentSize:\n",
    "            mc = self.minChild(i)\n",
    "            if self.heapList[i] > self.heapList[mc]:\n",
    "                tmp = self.heapList[i]\n",
    "                self.heapList[i] = self.heapList[mc]\n",
    "                self.heapList[mc] = tmp\n",
    "            i = mc\n",
    "    # 也就是比较一下左边和右边\n",
    "    def minChild(self, i):\n",
    "        if i * 2 + 1 > self.currentSize:\n",
    "            return i * 2\n",
    "        else:\n",
    "            if self.heapList[i*2] < self.heapList[i*2+1]:\n",
    "                return i * 2\n",
    "            else:\n",
    "                return i * 2 + 1\n",
    "    \n",
    "    def buildHeap(self, alist):\n",
    "        i = len(alist) // 2\n",
    "        self.currentSize = len(alist)\n",
    "        self.heapList = [0] + alist[:]\n",
    "        while i > 0:\n",
    "            self.percDown(i)\n",
    "            print(i, x.heapList)\n",
    "            i = i - 1"
   ]
  },
  {
   "cell_type": "code",
   "execution_count": 39,
   "id": "fc3defb3-16d5-4fff-b501-5b25a4ba4100",
   "metadata": {},
   "outputs": [],
   "source": [
    "x = BinaryHeap()"
   ]
  },
  {
   "cell_type": "code",
   "execution_count": 40,
   "id": "ced02871-1bcb-48b1-84d8-4404c67a4d24",
   "metadata": {},
   "outputs": [
    {
     "name": "stdout",
     "output_type": "stream",
     "text": [
      "2 [0, 9, 2, 5, 6, 3]\n",
      "1 [0, 2, 3, 5, 6, 9]\n"
     ]
    }
   ],
   "source": [
    "x.buildHeap([9, 6, 5, 2, 3])"
   ]
  },
  {
   "cell_type": "markdown",
   "id": "6668257c-0cbf-407f-b4e7-c66b99e4ba42",
   "metadata": {},
   "source": [
    "# 二叉搜索树"
   ]
  },
  {
   "cell_type": "code",
   "execution_count": 3,
   "id": "4194c70e-cc71-4951-bf5d-97a66b733d0d",
   "metadata": {},
   "outputs": [],
   "source": [
    "class BinarySearchTree:\n",
    "    def __init__(self):\n",
    "        self.root = None\n",
    "        self.size = 0\n",
    "    \n",
    "    def length(self):\n",
    "        return self.size\n",
    "\n",
    "    def __len__(self):\n",
    "        return self.size\n",
    "\n",
    "    def __iter__(self):\n",
    "        return self.root.__iter__()\n",
    "    \n",
    "    def put(self,key,val):\n",
    "        if self.root:\n",
    "            self._put(key,val,self.root)\n",
    "        else:\n",
    "            self.root = TreeNode(key,val)\n",
    "        self.size = self.size + 1\n",
    "\n",
    "    # 不能处理重复的值\n",
    "    def _put(self,key,val,currentNode):\n",
    "        if key < currentNode.key:\n",
    "            if currentNode.hasLeftChild():\n",
    "                self._put(key,val,currentNode.leftChild)\n",
    "            else:\n",
    "                currentNode.leftChild = TreeNode(key,val,parent=currentNode)\n",
    "        else:\n",
    "            if currentNode.hasRightChild():\n",
    "                self._put(key,val,currentNode.rightChild)\n",
    "            else:\n",
    "                currentNode.rightChild = TreeNode(key,val,parent=currentNode)\n",
    "            \n",
    "    # 索引赋值的实现\n",
    "    def __setitem__(self,k,v):\n",
    "        self.put(k,v)\n",
    "\n",
    "    def get(self,key):\n",
    "        if self.root:\n",
    "            res = self._get(key,self.root)\n",
    "            if res:\n",
    "                return res.payload\n",
    "            else:\n",
    "                return None\n",
    "        else:\n",
    "            return None\n",
    "        \n",
    "    def _get(self,key,currentNode):\n",
    "        if not currentNode:\n",
    "            return None\n",
    "        elif currentNode.key == key:\n",
    "            return currentNode\n",
    "        elif key < currentNode.key:\n",
    "            return self._get(key,currentNode.leftChild)\n",
    "        else:\n",
    "            return self._get(key,currentNode.rightChild)\n",
    "            \n",
    "    def __getitem__(self,key):\n",
    "        res = self.get(key)\n",
    "        if res:\n",
    "            return res\n",
    "        else:\n",
    "            raise KeyError('Error, key not in tree')\n",
    "            \n",
    "\n",
    "    def __contains__(self,key):\n",
    "        if self._get(key,self.root):\n",
    "            return True\n",
    "        else:\n",
    "            return False\n",
    "    \n",
    "    def delete(self,key):\n",
    "        if self.size > 1:\n",
    "            nodeToRemove = self._get(key,self.root)\n",
    "            if nodeToRemove:\n",
    "                self.remove(nodeToRemove)\n",
    "                self.size = self.size-1\n",
    "            else:\n",
    "                raise KeyError('Error, key not in tree')\n",
    "        # 如果只有一个根节点, 并且这个节点的key就是我们要找的key\n",
    "        elif self.size == 1 and self.root.key == key:\n",
    "            self.root = None\n",
    "            self.size = self.size - 1\n",
    "        else:\n",
    "            raise KeyError('Error, key not in tree')\n",
    "\n",
    "    def __delitem__(self,key):\n",
    "        self.delete(key)\n",
    "    \n",
    "    def remove(self,currentNode):\n",
    "        if currentNode.isLeaf(): #leaf\n",
    "            if currentNode == currentNode.parent.leftChild:\n",
    "                currentNode.parent.leftChild = None\n",
    "            else:\n",
    "                currentNode.parent.rightChild = None\n",
    "        elif currentNode.hasBothChildren(): #interior\n",
    "            succ = currentNode.findSuccessor()\n",
    "            succ.spliceOut()\n",
    "            currentNode.key = succ.key\n",
    "            currentNode.payload = succ.payload\n",
    "        else: # this node has one child\n",
    "            if currentNode.hasLeftChild():\n",
    "                if currentNode.isLeftChild():\n",
    "                    currentNode.leftChild.parent = currentNode.parent\n",
    "                    currentNode.parent.leftChild = currentNode.leftChild\n",
    "                elif currentNode.isRightChild():\n",
    "                    currentNode.leftChild.parent = currentNode.parent\n",
    "                    currentNode.parent.rightChild = currentNode.leftChild\n",
    "                else:\n",
    "                    currentNode.replaceNodeData(currentNode.leftChild.key,\n",
    "                                       currentNode.leftChild.payload,\n",
    "                                       currentNode.leftChild.leftChild,\n",
    "                                       currentNode.leftChild.rightChild)\n",
    "            else:\n",
    "                if currentNode.isLeftChild():\n",
    "                    currentNode.rightChild.parent = currentNode.parent\n",
    "                    currentNode.parent.leftChild = currentNode.rightChild\n",
    "                elif currentNode.isRightChild():\n",
    "                    currentNode.rightChild.parent = currentNode.parent\n",
    "                    currentNode.parent.rightChild = currentNode.rightChild\n",
    "                else:\n",
    "                    currentNode.replaceNodeData(currentNode.rightChild.key,\n",
    "                                       currentNode.rightChild.payload,\n",
    "                                       currentNode.rightChild.leftChild,\n",
    "                                       currentNode.rightChild.rightChild)\n",
    "\n",
    "    def inorder(self):\n",
    "        self._inorder(self.root)\n",
    "\n",
    "    def _inorder(self,tree):\n",
    "        if tree != None:\n",
    "            self._inorder(tree.leftChild)\n",
    "            print(tree.key)\n",
    "            self._inorder(tree.rightChild)\n",
    "\n",
    "    def postorder(self):\n",
    "        self._postorder(self.root)\n",
    "\n",
    "    def _postorder(self, tree):\n",
    "        if tree:\n",
    "            self._postorder(tree.rightChild)\n",
    "            self._postorder(tree.leftChild)\n",
    "            print(tree.key)            \n",
    "\n",
    "    def preorder(self):\n",
    "        self._preorder(self,self.root)\n",
    "\n",
    "    def _preorder(self,tree):\n",
    "        if tree:\n",
    "            print(tree.key)            \n",
    "            self._preorder(tree.leftChild)\n",
    "            self._preorder(tree.rightChild)"
   ]
  },
  {
   "cell_type": "code",
   "execution_count": 4,
   "id": "dd58060a-8998-48b6-a755-50e5285f716c",
   "metadata": {},
   "outputs": [],
   "source": [
    "class TreeNode:\n",
    "    def __init__(self,key,val,left=None,right=None,parent=None):\n",
    "        self.key = key\n",
    "        self.payload = val  # 数据项\n",
    "        self.leftChild = left\n",
    "        self.rightChild = right\n",
    "        self.parent = parent\n",
    "        self.balanceFactor = 0\n",
    "        \n",
    "    def hasLeftChild(self):\n",
    "        return self.leftChild\n",
    "\n",
    "    def hasRightChild(self):\n",
    "        return self.rightChild\n",
    "    \n",
    "    # 自己是不是左子节点\n",
    "    def isLeftChild(self):\n",
    "        return self.parent and self.parent.leftChild == self\n",
    "\n",
    "    def isRightChild(self):\n",
    "        return self.parent and self.parent.rightChild == self\n",
    "\n",
    "    def isRoot(self):\n",
    "        return not self.parent\n",
    "\n",
    "    def isLeaf(self):\n",
    "        return not (self.rightChild or self.leftChild)\n",
    "\n",
    "    def hasAnyChildren(self):\n",
    "        return self.rightChild or self.leftChild\n",
    "\n",
    "    def hasBothChildren(self):\n",
    "        return self.rightChild and self.leftChild\n",
    "    \n",
    "    # 值的替换\n",
    "    def replaceNodeData(self, key, value, lc, rc):\n",
    "        self.key = key\n",
    "        self.payload = value\n",
    "        self.leftChild = lc\n",
    "        self.rightChild = rc\n",
    "        if self.hasLeftChild():\n",
    "            self.leftChild.parent = self\n",
    "        if self.hasRightChild():\n",
    "            self.rightChild.parent = self\n",
    "        \n",
    "    def findSuccessor(self):\n",
    "        succ = None\n",
    "        if self.hasRightChild():\n",
    "            succ = self.rightChild.findMin()\n",
    "        # 不会碰到, 所以是多余的代码\n",
    "        else:\n",
    "            if self.parent:\n",
    "                if self.isLeftChild():\n",
    "                    succ = self.parent\n",
    "                else:\n",
    "                    self.parent.rightChild = None\n",
    "                    succ = self.parent.findSuccessor()\n",
    "                    self.parent.rightChild = self\n",
    "        return succ\n",
    "\n",
    "\n",
    "    def spliceOut(self):\n",
    "        if self.isLeaf():\n",
    "            if self.isLeftChild():\n",
    "                self.parent.leftChild = None\n",
    "            else:\n",
    "                self.parent.rightChild = None\n",
    "        elif self.hasAnyChildren():\n",
    "            if self.hasLeftChild():\n",
    "                if self.isLeftChild():\n",
    "                    self.parent.leftChild = self.leftChild\n",
    "                else:\n",
    "                    self.parent.rightChild = self.leftChild\n",
    "                self.leftChild.parent = self.parent\n",
    "            else:\n",
    "                if self.isLeftChild():\n",
    "                    self.parent.leftChild = self.rightChild\n",
    "                else:\n",
    "                    self.parent.rightChild = self.rightChild\n",
    "                self.rightChild.parent = self.parent\n",
    "\n",
    "    def findMin(self):\n",
    "        current = self\n",
    "        while current.hasLeftChild():\n",
    "            current = current.leftChild\n",
    "        return current\n",
    "\n",
    "    # 可以迭代取出\n",
    "    def __iter__(self):\n",
    "        \"\"\"The standard inorder traversal of a binary tree.\"\"\"\n",
    "        if self:\n",
    "            if self.hasLeftChild():\n",
    "                for elem in self.leftChild:\n",
    "                    yield elem\n",
    "            yield self.key\n",
    "            if self.hasRightChild():\n",
    "                for elem in self.rightChild:\n",
    "                    yield elem"
   ]
  },
  {
   "cell_type": "code",
   "execution_count": 1,
   "id": "337379c8-32bb-4943-b3f1-f4c56108262b",
   "metadata": {},
   "outputs": [],
   "source": [
    "# 二叉搜索树的分析\n",
    "## 平衡的二叉树的时间复杂度是O(log2n)\n",
    "## 不平衡的二叉树的时间复杂度是O(n)"
   ]
  },
  {
   "cell_type": "markdown",
   "id": "b03944d7-bdf1-481e-a5a5-62fbecf66cbc",
   "metadata": {},
   "source": [
    "# 平衡二叉搜索树"
   ]
  },
  {
   "cell_type": "code",
   "execution_count": 2,
   "id": "ac21fa94-eab7-498c-a865-566e34040269",
   "metadata": {},
   "outputs": [],
   "source": [
    "# AVL树的时间复杂度O(logN)"
   ]
  },
  {
   "cell_type": "code",
   "execution_count": 3,
   "id": "fc2bf31b-3bff-476d-9df6-47380bdb488a",
   "metadata": {},
   "outputs": [],
   "source": [
    "# 实现AVL树"
   ]
  },
  {
   "cell_type": "code",
   "execution_count": 1,
   "id": "2ca82838-7d62-480c-b4ae-2789efb11df1",
   "metadata": {},
   "outputs": [],
   "source": [
    "# 修改AVL树的_put方法, 只需要添加updateBalance方法即可\n",
    "def _put(self, key, val, currentNode):\n",
    "    if key < currentNode.key:\n",
    "        if currentNode.hasLeftChild():\n",
    "            self._put(key, val, currentNode.leftChild)\n",
    "        else:\n",
    "            currentNode.leftChild = TreeNode(key, val, parent= currentNode)\n",
    "            self.updateBalance(currentNode.leftChild)\n",
    "    else:\n",
    "        if currentNode.hasRightChild():\n",
    "            self._put(key, val, currentNode.rightChild)\n",
    "        else:\n",
    "            currentNode.rightChild = TreeNode(key, val, parent= currentNode)\n",
    "            self.updateBalance(currentNode.rightChild)\n",
    "\n",
    "# 编写updateBalance方法, 他会递归调用, 如果> 1 或者 < -1, 那么重新平衡.\n",
    "def updateBalance(self, node):\n",
    "    if node.balanceFactor > 1 or node.balanceFactor < -1:\n",
    "        self.rebalance(node)\n",
    "        return\n",
    "    # 如果在可控范围内, 那么父节点的平衡因子变化, 并且迭代到父节点\n",
    "    if node.parent != None:\n",
    "        if node.isLeftChild():\n",
    "            node.parent.balanceFactor += 1\n",
    "        elif node.isRightChild():\n",
    "            node.parent.balanceFactor -= 1\n",
    "        if node.parent.balanceFactor != 0:\n",
    "            self.updateBalance(node.parent)\n"
   ]
  },
  {
   "cell_type": "code",
   "execution_count": 2,
   "id": "8cfa808f",
   "metadata": {},
   "outputs": [],
   "source": [
    "# 左旋\n",
    "def rotateLeft(self, rotRoot):\n",
    "    newRoot = rotRoot.rightChild\n",
    "    rotRoot.rightChild = newRoot.leftChild\n",
    "    if newRoot.leftChild  != None:\n",
    "        newRoot.leftChild.parent = rotRoot\n",
    "    newRoot.parent = rotRoot.parent\n",
    "    if rotRoot.isRoot():\n",
    "        self.root = newRoot\n",
    "    else:\n",
    "        if rotRoot.isLeftChild():\n",
    "            rotRoot.parent.leftChild = newRoot\n",
    "        else:\n",
    "            rotRoot.parent.rightChild = newRoot\n",
    "    newRoot.leftChild = rotRoot\n",
    "    rotRoot.parent = newRoot\n",
    "    rotRoot.balanceFactor = rotRoot.balanceFactor + 1 - min(newRoot.balanceFactor, 0)\n",
    "    newRoot.balanceFactor = newRoot.balanceFactor + 1 + max(rotRoot.balanceFactor, 0)"
   ]
  },
  {
   "cell_type": "code",
   "execution_count": 3,
   "id": "1429bce3",
   "metadata": {},
   "outputs": [],
   "source": [
    "# 复杂的情形:\n",
    "## 可能会出现右重后左旋, 出现左重的情形\n",
    "## 可能会出现左重后右旋, 出现右重的情形\n",
    "def rebalance(self, node):\n",
    "    # 右重, 需要左旋\n",
    "    if node.balanceFactor < 0:\n",
    "        # 检查右子节点是否是左重, 左重需要右旋\n",
    "        if node.rightChild.balanceFactor > 0:\n",
    "            self.rotateRight(node.rightChild)\n",
    "            self.rotateLeft(node)\n",
    "        else:\n",
    "            self.rotateLeft(node)\n",
    "    # 左重, 需要右旋\n",
    "    elif node.balanceFactor > 0:\n",
    "        # 检查左子节点是否是右重, 右重需要左旋\n",
    "        if node.leftChild.balanceFactor < 0:\n",
    "            self.rotateLeft(node.leftChild)\n",
    "            self.rotateRight(node)\n",
    "        else:\n",
    "            self.rotateRight(node)"
   ]
  },
  {
   "cell_type": "code",
   "execution_count": null,
   "id": "36b253fa",
   "metadata": {},
   "outputs": [],
   "source": [
    "# put 和 get算法的时间复杂度都是O(logn)"
   ]
  }
 ],
 "metadata": {
  "kernelspec": {
   "display_name": "Python 3",
   "language": "python",
   "name": "python3"
  },
  "language_info": {
   "codemirror_mode": {
    "name": "ipython",
    "version": 3
   },
   "file_extension": ".py",
   "mimetype": "text/x-python",
   "name": "python",
   "nbconvert_exporter": "python",
   "pygments_lexer": "ipython3",
   "version": "3.7.6"
  },
  "toc": {
   "base_numbering": 1,
   "nav_menu": {},
   "number_sections": true,
   "sideBar": true,
   "skip_h1_title": false,
   "title_cell": "Table of Contents",
   "title_sidebar": "Contents",
   "toc_cell": false,
   "toc_position": {
    "height": "calc(100% - 180px)",
    "left": "10px",
    "top": "150px",
    "width": "195.27px"
   },
   "toc_section_display": true,
   "toc_window_display": true
  },
  "toc-autonumbering": true
 },
 "nbformat": 4,
 "nbformat_minor": 5
}

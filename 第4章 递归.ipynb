{
 "cells": [
  {
   "cell_type": "markdown",
   "id": "f6ca4f70",
   "metadata": {},
   "source": [
    "# 递归"
   ]
  },
  {
   "cell_type": "markdown",
   "id": "cff52a94",
   "metadata": {},
   "source": [
    "## 计算列数之和"
   ]
  },
  {
   "cell_type": "code",
   "execution_count": null,
   "id": "8002d685",
   "metadata": {},
   "outputs": [],
   "source": [
    "def listsum(numlist):\n",
    "    if len(numlist) == 1:\n",
    "        return numlist[0]\n",
    "    else:\n",
    "        return numlist[0] + listsum(numlist[1:])"
   ]
  },
  {
   "cell_type": "code",
   "execution_count": null,
   "id": "de35f6a5",
   "metadata": {},
   "outputs": [],
   "source": [
    "listsum([1, 3, 5, 7, 9])"
   ]
  },
  {
   "cell_type": "code",
   "execution_count": null,
   "id": "4de88bbb",
   "metadata": {},
   "outputs": [],
   "source": [
    "# 递归的三要素\n",
    "# 1. 要有基本情况\n",
    "# 2. 向基本情况靠近\n",
    "# 3. 递归的调用自己"
   ]
  },
  {
   "cell_type": "markdown",
   "id": "b55c84a6",
   "metadata": {},
   "source": [
    "## 将十进制转换成任意进制的字符串"
   ]
  },
  {
   "cell_type": "code",
   "execution_count": null,
   "id": "5615946e",
   "metadata": {},
   "outputs": [],
   "source": [
    "def toStr(n, base):\n",
    "    convertString = \"0123456789ABCDEFG\"\n",
    "    if n < base:\n",
    "        return convertString[n]\n",
    "    else:\n",
    "        return toStr(n//base, base) + convertString[n%base]"
   ]
  },
  {
   "cell_type": "code",
   "execution_count": null,
   "id": "a96b1eba",
   "metadata": {},
   "outputs": [],
   "source": [
    "toStr(10, 2)"
   ]
  },
  {
   "cell_type": "markdown",
   "id": "e5a5f39c",
   "metadata": {},
   "source": [
    "# 栈帧: 实现递归"
   ]
  },
  {
   "cell_type": "code",
   "execution_count": null,
   "id": "0a15e045",
   "metadata": {},
   "outputs": [],
   "source": [
    "from basic import Stack\n",
    "\n",
    "rStack = Stack()\n",
    "\n",
    "def toStr(n, base):\n",
    "    convertString = \"0123456789ABCDEFG\"\n",
    "    if n < base:\n",
    "        rStack.push(convertString[n])\n",
    "    else:\n",
    "        rStack.push(convertString[n%base])\n",
    "        toStr(n//base, base)\n",
    "        \n",
    "        "
   ]
  },
  {
   "cell_type": "markdown",
   "id": "59abb5f0",
   "metadata": {},
   "source": [
    "# 递归可视化"
   ]
  },
  {
   "cell_type": "markdown",
   "id": "95eb32bc",
   "metadata": {},
   "source": [
    "## 分形树"
   ]
  },
  {
   "cell_type": "code",
   "execution_count": null,
   "id": "a23829e0",
   "metadata": {},
   "outputs": [],
   "source": [
    "from turtle import *\n",
    "\n",
    "myTurtle = Turtle()\n",
    "myWin = myTurtle.getscreen()\n",
    "\n",
    "def drawSporal(myTurtle, lineLen):\n",
    "    if lineLen > 0:\n",
    "        myTurtle.forward(lineLen)\n",
    "        myTurtle.right(90)\n",
    "        drawSporal(myTurtle, lineLen-5)\n",
    "# test\n",
    "drawSporal(myTurtle, 100)\n",
    "myWin.exitonclick()"
   ]
  },
  {
   "cell_type": "code",
   "execution_count": null,
   "id": "d71472b6",
   "metadata": {},
   "outputs": [],
   "source": [
    "def tree(branchLen, t):\n",
    "    if branchLen > 5:\n",
    "        t.forward(branchLen)\n",
    "        t.right(20)\n",
    "        tree(branchLen-20, t)\n",
    "        t.left(40)\n",
    "        tree(branchLen-20, t)\n",
    "        t.right(20)\n",
    "        t.backward(branchLen)"
   ]
  },
  {
   "cell_type": "code",
   "execution_count": null,
   "id": "78522e03",
   "metadata": {},
   "outputs": [],
   "source": [
    "from turtle import *\n",
    "t = Turtle()\n",
    "myWin = t.getscreen()\n",
    "t.left(90)\n",
    "t.up() # 不画, 抬起来\n",
    "t.backward(300)\n",
    "t.down()\n",
    "t.color(\"green\")\n",
    "tree(110, t)\n",
    "\n",
    "myWin.exitonclick()"
   ]
  },
  {
   "cell_type": "markdown",
   "id": "c6483b24",
   "metadata": {},
   "source": [
    "## 谢尔平斯基三角形"
   ]
  },
  {
   "cell_type": "code",
   "execution_count": null,
   "id": "25d8f2a2",
   "metadata": {},
   "outputs": [],
   "source": [
    "from turtle import *\n",
    "\n",
    "def drawTriangle(points, color, myTurtle):\n",
    "    myTurtle.fillcolor(color)\n",
    "    myTurtle.up()\n",
    "    myTurtle.goto(points[0])\n",
    "    myTurtle.down()\n",
    "    myTurtle.begin_fill()\n",
    "    myTurtle.goto(points[1])\n",
    "    myTurtle.goto(points[2])\n",
    "    myTurtle.goto(points[0])\n",
    "    myTurtle.end_fill()\n",
    "\n",
    "def getMid(p1, p2):\n",
    "    return ( ( p1[0]+p2[0] ) / 2, ( p1[1]+p2[1] ) / 2)\n",
    "\n",
    "def sierpinski(points, degree, myTurtle):\n",
    "    colormap = [\"blue\", \"red\", \"green\", \"white\", \"yellow\", \"violet\", \"orange\"]\n",
    "    drawTriangle(points, colormap[degree], myTurtle)\n",
    "    if degree > 0:\n",
    "        sierpinski( [points[0], \n",
    "                         getMid(points[0], points[1]), \n",
    "                         getMid(points[0], points[2])], \n",
    "                   degree - 1, myTurtle)\n",
    "        sierpinski( [points[1], \n",
    "                         getMid(points[0], points[1]), \n",
    "                         getMid(points[1], points[2])], \n",
    "                   degree - 1, myTurtle)\n",
    "        sierpinski( [points[2], \n",
    "                         getMid(points[2], points[1]), \n",
    "                         getMid(points[0], points[2])], \n",
    "                   degree - 1, myTurtle)\n",
    "myTurtle = Turtle()\n",
    "myWin = myTurtle.getscreen()\n",
    "myPoints = [(-500, -250), (0, 500), (500, -250)]\n",
    "sierpinski(myPoints, 5, myTurtle)\n",
    "myWin.exitonclick()"
   ]
  },
  {
   "cell_type": "code",
   "execution_count": null,
   "id": "81c7ed31",
   "metadata": {},
   "outputs": [],
   "source": []
  }
 ],
 "metadata": {
  "kernelspec": {
   "display_name": "Python 3",
   "language": "python",
   "name": "python3"
  },
  "language_info": {
   "codemirror_mode": {
    "name": "ipython",
    "version": 3
   },
   "file_extension": ".py",
   "mimetype": "text/x-python",
   "name": "python",
   "nbconvert_exporter": "python",
   "pygments_lexer": "ipython3",
   "version": "3.7.6"
  },
  "toc": {
   "base_numbering": 1,
   "nav_menu": {},
   "number_sections": true,
   "sideBar": true,
   "skip_h1_title": false,
   "title_cell": "Table of Contents",
   "title_sidebar": "Contents",
   "toc_cell": false,
   "toc_position": {},
   "toc_section_display": true,
   "toc_window_display": false
  }
 },
 "nbformat": 4,
 "nbformat_minor": 5
}

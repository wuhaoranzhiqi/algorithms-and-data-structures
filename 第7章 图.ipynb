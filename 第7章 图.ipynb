{
 "cells": [
  {
   "cell_type": "markdown",
   "id": "6f8fd622-d0fd-433d-a3e6-c420efb6e108",
   "metadata": {},
   "source": [
    "# 术语及定义"
   ]
  },
  {
   "cell_type": "code",
   "execution_count": 1,
   "id": "689d173f-790d-4d34-9557-fe2997723aa4",
   "metadata": {},
   "outputs": [],
   "source": [
    "# 顶点\n",
    "# 边\n",
    "# 权重\n",
    "# 路径\n",
    "# 圈\n",
    "# 环"
   ]
  },
  {
   "cell_type": "markdown",
   "id": "5f1cfa60-6a86-4183-a615-fd7ce78512c2",
   "metadata": {},
   "source": [
    "# 图的抽象数据类型"
   ]
  },
  {
   "cell_type": "code",
   "execution_count": 2,
   "id": "a9f4f3ae-d896-4d2d-b915-616060392f57",
   "metadata": {},
   "outputs": [],
   "source": [
    "# 实现的两种形式: 邻接矩阵 邻接表"
   ]
  },
  {
   "cell_type": "code",
   "execution_count": 8,
   "id": "7e2a97d2-853b-4b37-9eb7-0fecb1310d04",
   "metadata": {},
   "outputs": [],
   "source": [
    "# python实现graph\n",
    "## 顶点\n",
    "import sys\n",
    "class Vertex:\n",
    "    def __init__(self,num):\n",
    "        self.id = num\n",
    "        self.connectedTo = {}\n",
    "        self.color = 'white'\n",
    "        self.dist = sys.maxsize\n",
    "        self.pred = None\n",
    "        self.disc = 0\n",
    "        self.fin = 0\n",
    "\n",
    "    # def __lt__(self,o):\n",
    "    #     return self.id < o.id\n",
    "    \n",
    "    def addNeighbor(self,nbr,weight=0):\n",
    "        self.connectedTo[nbr] = weight\n",
    "        \n",
    "    def setColor(self,color):\n",
    "        self.color = color\n",
    "        \n",
    "    def setDistance(self,d):\n",
    "        self.dist = d\n",
    "\n",
    "    def setPred(self,p):\n",
    "        self.pred = p\n",
    "\n",
    "    def setDiscovery(self,dtime):\n",
    "        self.disc = dtime\n",
    "        \n",
    "    def setFinish(self,ftime):\n",
    "        self.fin = ftime\n",
    "        \n",
    "    def getFinish(self):\n",
    "        return self.fin\n",
    "        \n",
    "    def getDiscovery(self):\n",
    "        return self.disc\n",
    "        \n",
    "    def getPred(self):\n",
    "        return self.pred\n",
    "        \n",
    "    def getDistance(self):\n",
    "        return self.dist\n",
    "        \n",
    "    def getColor(self):\n",
    "        return self.color\n",
    "    \n",
    "    def getConnections(self):\n",
    "        return self.connectedTo.keys()\n",
    "        \n",
    "    def getWeight(self,nbr):\n",
    "        return self.connectedTo[nbr]\n",
    "                \n",
    "    def __str__(self):\n",
    "        return str(self.id) + \":color \" + self.color + \":disc \" + str(self.disc) + \":fin \" + str(self.fin) + \":dist \" + str(self.dist) + \":pred \\n\\t[\" + str(self.pred)+ \"]\\n\"\n",
    "    \n",
    "    def getId(self):\n",
    "        return self.id\n",
    "\n",
    "# graph类\n",
    "class Graph:\n",
    "    def __init__(self):\n",
    "        self.vertList = {}   # 顶点列表\n",
    "        self.numVertices = 0  # 顶点数量\n",
    "    def addVertex(self, key):\n",
    "        self.numVertices = self.numVertices + 1\n",
    "        newVertex = Vertex(key)\n",
    "        self.vertList[key] = newVertex\n",
    "        return newVertex\n",
    "    def getVertex(self, n):\n",
    "        if n in self.vertList:\n",
    "            return self.vertList[n]\n",
    "        else:\n",
    "            return None\n",
    "    def __contains__(self, n):\n",
    "        return n in self.vertList\n",
    "    def addEdge(self, f, t, cost=0):\n",
    "        if f not in self.vertList:\n",
    "            nv = self.addVertex(f)\n",
    "        if t not in self.vertList:\n",
    "            nv = self.addVertex(t)\n",
    "        self.vertList[f].addNeighbor(self.vertList[t], cost)\n",
    "        \n",
    "    def getVertices(self):\n",
    "        return self.vertList.keys()\n",
    "    def __iter__(self):\n",
    "        return iter(self.vertList.values())\n",
    "    "
   ]
  },
  {
   "cell_type": "code",
   "execution_count": 14,
   "id": "8bc1d2e8-6c17-46c5-a535-255197663422",
   "metadata": {},
   "outputs": [
    {
     "name": "stdout",
     "output_type": "stream",
     "text": [
      "0 1 5\n",
      "0 5 2\n",
      "1 2 4\n",
      "2 3 9\n",
      "3 4 7\n",
      "3 5 3\n",
      "4 0 1\n",
      "5 4 8\n",
      "5 2 1\n"
     ]
    }
   ],
   "source": [
    "g = Graph()\n",
    "for i in range(6):\n",
    "    g.addVertex(i)\n",
    "g.vertList\n",
    "g.addEdge(0, 1, 5)\n",
    "g.addEdge(0, 5, 2)\n",
    "g.addEdge(1, 2, 4)\n",
    "g.addEdge(2, 3, 9)\n",
    "g.addEdge(3, 4, 7)\n",
    "g.addEdge(3, 5, 3)\n",
    "g.addEdge(4, 0, 1)\n",
    "g.addEdge(5, 4, 8)\n",
    "g.addEdge(5, 2, 1)\n",
    "for v in g:  # v是边\n",
    "    for w in v.getConnections():  # 相邻的边\n",
    "        print(v.getId(), w.getId(), v.connectedTo[w])"
   ]
  },
  {
   "cell_type": "markdown",
   "id": "014c3b0e-1cae-481a-b60c-94d9513b75d5",
   "metadata": {},
   "source": [
    "# 广度优先搜索(BFS)"
   ]
  },
  {
   "cell_type": "code",
   "execution_count": 15,
   "id": "8d62a0ff-d07f-416b-95e4-1ba8bf80bbc3",
   "metadata": {},
   "outputs": [],
   "source": [
    "# 词梯问题\n",
    "## 如何构建相邻边呢, 通过比较的方法时间复杂度比较高, 如果使用的词桶"
   ]
  },
  {
   "cell_type": "code",
   "execution_count": 5,
   "id": "1f829be3-e106-4fcf-be97-1e7d5197bedb",
   "metadata": {},
   "outputs": [],
   "source": [
    "# O(|V|2)\n",
    "def buildGraph(wordFile):\n",
    "    d = {}\n",
    "    g = Graph()\n",
    "    wfile = open(wordFile, 'r')\n",
    "    for line in wfile:  # 遍历每个单词\n",
    "        word = line[:-1]  # \\n也算一个字符\n",
    "        for i in range(len(word)):  # 遍历每个单词的每个字母\n",
    "            bucket = word[:i] + '_' + word[i+1:]\n",
    "            if bucket in d:\n",
    "                d[bucket].append(word)\n",
    "            else:\n",
    "                d[bucket] = [word]\n",
    "    for bucket in d.keys():\n",
    "        for word1 in d[bucket]:\n",
    "            for word2 in d[bucket]:\n",
    "                if word1 != word2:\n",
    "                    g.addEdge(word1, word2)\n",
    "    return g"
   ]
  },
  {
   "cell_type": "code",
   "execution_count": 16,
   "id": "a51dc9c5-88af-47c3-938c-4fd653226b8d",
   "metadata": {},
   "outputs": [],
   "source": [
    "# 实现广度搜索\n",
    "# O(|V|+|E|)\n",
    "from basic import queue\n",
    "def bfs(g, start):\n",
    "    start.setDistance(0)\n",
    "    start.setPred(None) # 前序节点\n",
    "    start.setColor('gary')\n",
    "    vertQueue = queue.Queue()\n",
    "    vertQueue.enqueue(start)\n",
    "    while (vertQueue.size() > 0):\n",
    "        currentVert = vertQueue.dequeue()\n",
    "        for nbr in currentVert.getConnections():\n",
    "            if (nbr.getColor() == 'white'):\n",
    "                nbr.setColor('gary')\n",
    "                nbr.setDistance(currentVert.getDistance() + 1)\n",
    "                nbr.setPred(currentVert)\n",
    "                vertQueue.enqueue(nbr)\n",
    "#                 print(nbr.getId())\n",
    "        currentVert.setColor('black')\n",
    "\n",
    "# O(V2)\n",
    "def traverse(y):\n",
    "    x = y  # 一种编程习惯, 需要学习\n",
    "    while (x.getPred()):\n",
    "        print(x.getId())\n",
    "        x = x.getPred()\n",
    "    print(x.getId()) "
   ]
  },
  {
   "cell_type": "code",
   "execution_count": 15,
   "id": "d1785e90-cf24-46c7-81ff-cfb9ca069551",
   "metadata": {},
   "outputs": [
    {
     "name": "stdout",
     "output_type": "stream",
     "text": [
      "sage\n",
      "sale\n",
      "pale\n",
      "pall\n",
      "poll\n",
      "pool\n",
      "fool\n"
     ]
    }
   ],
   "source": [
    "# 生成词图\n",
    "wordgraph = buildGraph(r'wordFile.txt')\n",
    "# BFS搜索整个词图\n",
    "bfs(wordgraph, wordgraph.getVertex('fool'))\n",
    "# 逆向回溯搜索树\n",
    "traverse(wordgraph.getVertex('sage'))"
   ]
  },
  {
   "cell_type": "markdown",
   "id": "f094d313-c5bc-403d-87a3-45d696abe3d3",
   "metadata": {},
   "source": [
    "# 深度优先搜索(DFS)"
   ]
  },
  {
   "cell_type": "code",
   "execution_count": null,
   "id": "e575e6cf-f645-40e4-af06-efedecade9c8",
   "metadata": {},
   "outputs": [],
   "source": [
    "# 骑士周游问题"
   ]
  },
  {
   "cell_type": "code",
   "execution_count": 22,
   "id": "591ddfb9-834d-4e9f-869a-c27e29a7bd06",
   "metadata": {},
   "outputs": [],
   "source": [
    "# 生成一个顶点的所有邻点\n",
    "def genLegalMoves(x, y, bdSize):\n",
    "    newMoves = []\n",
    "    moveOffsets = [(-1, -2), (-1, 2), (-2, -1), (-2, 1), (1, -2), (1, 2), (2, -1), (2, 1)]\n",
    "    for i in moveOffsets:\n",
    "        newX = x + i[0]\n",
    "        newY = y + i[1]\n",
    "        if legalCoord(newX, bdSize) and legalCoord(newY, bdSize):\n",
    "            newMoves.append((newX, newY))\n",
    "    return newMoves\n",
    "\n",
    "#判断下一个点是否合格\n",
    "def legalCoord(x, bdSize):\n",
    "    if x >= 0 and x < bdSize:   # 0 <= x < 8\n",
    "        return True\n",
    "    else:\n",
    "        return False\n",
    "\n",
    "# 获取每个遍历值的顶点ID值\n",
    "def posToNodeId(row, column, board_size):\n",
    "    return (row * board_size) + column\n",
    "\n",
    "# 生成骑士周游的图\n",
    "def knightGraph(bdSize):\n",
    "    ktGraph = Graph()\n",
    "    for row in range(bdSize):\n",
    "        for col in range(bdSize):\n",
    "            # 获取每个顶点的Id值\n",
    "            nodeId = posToNodeId(row, col, bdSize)\n",
    "            # 获取每个顶点的下一个移动到的顶点\n",
    "            newPosition = genLegalMoves(row, col, bdSize)\n",
    "            for e in newPosition:\n",
    "                nid = posToNodeId(e[0], e[1], bdSize)\n",
    "                ktGraph.addEdge(nodeId, nid)\n",
    "    return ktGraph"
   ]
  },
  {
   "cell_type": "code",
   "execution_count": 45,
   "id": "9bd2a9fe-8c6a-448a-80c2-0eefe274fcb7",
   "metadata": {},
   "outputs": [],
   "source": [
    "# 实现骑士周游问题\n",
    "path = []\n",
    "def knightTour(n, path, u, limit):\n",
    "    u.setColor('gray')\n",
    "    path.append(u.getId())\n",
    "    if n < limit:  # 访问limit次, 可以将所有的点访问\n",
    "        # 需要list将邻点的顶点对象变成可以访问的list\n",
    "        nbrList = list(u.getConnections())\n",
    "        i = 0\n",
    "        done = False\n",
    "        while i < len(nbrList) and not done:\n",
    "            if nbrList[i].getColor() == 'white':\n",
    "                done = knightTour(n+1, path, nbrList[i], limit)\n",
    "            i += 1\n",
    "        if not done:\n",
    "            path.pop()\n",
    "            u.setColor('white')\n",
    "    else:\n",
    "        done = True\n",
    "    return done"
   ]
  },
  {
   "cell_type": "code",
   "execution_count": 50,
   "id": "15faca4b-602a-4b6b-a213-47d29bcb593a",
   "metadata": {},
   "outputs": [
    {
     "data": {
      "text/plain": [
       "[<__main__.Vertex at 0x1f945fedc08>, <__main__.Vertex at 0x1f945fedb08>]"
      ]
     },
     "execution_count": 50,
     "metadata": {},
     "output_type": "execute_result"
    }
   ],
   "source": [
    "knightG = knightGraph(8)\n",
    "knightG.getVertex(0)"
   ]
  },
  {
   "cell_type": "code",
   "execution_count": 47,
   "id": "68dcbd78-4b2e-47ad-941d-f268d6e8afbe",
   "metadata": {},
   "outputs": [
    {
     "data": {
      "text/plain": [
       "True"
      ]
     },
     "execution_count": 47,
     "metadata": {},
     "output_type": "execute_result"
    }
   ],
   "source": [
    "knightTour(0, path, knightG.getVertex(0), 63)"
   ]
  },
  {
   "cell_type": "code",
   "execution_count": 48,
   "id": "2d7b3d39-0b6d-469e-a0b0-2f994133b7b9",
   "metadata": {
    "collapsed": true,
    "jupyter": {
     "outputs_hidden": true
    },
    "tags": []
   },
   "outputs": [
    {
     "data": {
      "text/plain": [
       "[0,\n",
       " 10,\n",
       " 4,\n",
       " 14,\n",
       " 20,\n",
       " 3,\n",
       " 9,\n",
       " 19,\n",
       " 13,\n",
       " 7,\n",
       " 22,\n",
       " 12,\n",
       " 2,\n",
       " 8,\n",
       " 18,\n",
       " 1,\n",
       " 11,\n",
       " 5,\n",
       " 15,\n",
       " 21,\n",
       " 6,\n",
       " 23,\n",
       " 29,\n",
       " 35,\n",
       " 25,\n",
       " 40,\n",
       " 34,\n",
       " 24,\n",
       " 41,\n",
       " 26,\n",
       " 16,\n",
       " 33,\n",
       " 27,\n",
       " 17,\n",
       " 32,\n",
       " 49,\n",
       " 43,\n",
       " 28,\n",
       " 38,\n",
       " 55,\n",
       " 61,\n",
       " 44,\n",
       " 59,\n",
       " 53,\n",
       " 63,\n",
       " 46,\n",
       " 31,\n",
       " 37,\n",
       " 47,\n",
       " 30,\n",
       " 36,\n",
       " 51,\n",
       " 57,\n",
       " 42,\n",
       " 48,\n",
       " 58,\n",
       " 52,\n",
       " 62,\n",
       " 45,\n",
       " 39,\n",
       " 54,\n",
       " 60,\n",
       " 50,\n",
       " 56]"
      ]
     },
     "execution_count": 48,
     "metadata": {},
     "output_type": "execute_result"
    }
   ],
   "source": [
    "path"
   ]
  },
  {
   "cell_type": "markdown",
   "id": "5058b9f4-5be9-4ce4-985a-0e8877b24d44",
   "metadata": {},
   "source": [
    "## 分析骑士周游问题"
   ]
  },
  {
   "cell_type": "code",
   "execution_count": 59,
   "id": "72e910ac-dbe4-4d23-9013-5116b5b79e0a",
   "metadata": {},
   "outputs": [],
   "source": [
    "# 从棋盘的周围搜索, 可以减少骑士搜索的次数"
   ]
  },
  {
   "cell_type": "code",
   "execution_count": 64,
   "id": "3683d389-e560-4351-aac2-3c112acc7783",
   "metadata": {},
   "outputs": [],
   "source": [
    "# Warnsdorff算法\n",
    "def orderByAvail(n):\n",
    "    resList = []\n",
    "    for v in n.getConnections():\n",
    "        if v.getColor() == \"white\":\n",
    "            c = 0\n",
    "            for w in v.getConnections():\n",
    "                if w.getColor() == \"white\":\n",
    "                    c = c + 1\n",
    "            resList.append((c, v))\n",
    "    resList.sort(key = lambda x: x[0])\n",
    "    return [y[1] for y in resList]\n"
   ]
  },
  {
   "cell_type": "code",
   "execution_count": 65,
   "id": "0217c1ec-5a8b-422a-bc40-176467297262",
   "metadata": {},
   "outputs": [],
   "source": [
    "# 实现骑士周游问题\n",
    "path = []\n",
    "def knightTour(n, path, u, limit):\n",
    "    u.setColor('gray')\n",
    "    path.append(u.getId())\n",
    "    if n < limit:  # 访问limit次, 可以将所有的点访问\n",
    "        # 需要list将邻点的顶点对象变成可以访问的list\n",
    "        nbrList = orderByAvail(u)\n",
    "        i = 0\n",
    "        done = False\n",
    "        while i < len(nbrList) and not done:\n",
    "            if nbrList[i].getColor() == 'white':\n",
    "                done = knightTour(n+1, path, nbrList[i], limit)\n",
    "            i += 1\n",
    "        if not done:\n",
    "            path.pop()\n",
    "            u.setColor('white')\n",
    "    else:\n",
    "        done = True\n",
    "    return done"
   ]
  },
  {
   "cell_type": "code",
   "execution_count": 66,
   "id": "90619d14-ee63-4d03-91fd-7de028aaab5c",
   "metadata": {},
   "outputs": [
    {
     "data": {
      "text/plain": [
       "True"
      ]
     },
     "execution_count": 66,
     "metadata": {},
     "output_type": "execute_result"
    }
   ],
   "source": [
    "knightG = knightGraph(8)\n",
    "knightTour(0, path, knightG.getVertex(0), 63)"
   ]
  },
  {
   "cell_type": "code",
   "execution_count": 67,
   "id": "4a4e3d61-b2ae-4574-9896-574a6f9a1aac",
   "metadata": {
    "collapsed": true,
    "jupyter": {
     "outputs_hidden": true
    },
    "tags": []
   },
   "outputs": [
    {
     "data": {
      "text/plain": [
       "[0,\n",
       " 10,\n",
       " 4,\n",
       " 14,\n",
       " 31,\n",
       " 46,\n",
       " 63,\n",
       " 53,\n",
       " 47,\n",
       " 62,\n",
       " 52,\n",
       " 58,\n",
       " 48,\n",
       " 33,\n",
       " 16,\n",
       " 1,\n",
       " 11,\n",
       " 5,\n",
       " 15,\n",
       " 21,\n",
       " 6,\n",
       " 23,\n",
       " 38,\n",
       " 55,\n",
       " 61,\n",
       " 51,\n",
       " 57,\n",
       " 40,\n",
       " 25,\n",
       " 8,\n",
       " 2,\n",
       " 17,\n",
       " 32,\n",
       " 42,\n",
       " 59,\n",
       " 49,\n",
       " 43,\n",
       " 60,\n",
       " 50,\n",
       " 56,\n",
       " 41,\n",
       " 24,\n",
       " 9,\n",
       " 26,\n",
       " 36,\n",
       " 30,\n",
       " 20,\n",
       " 3,\n",
       " 13,\n",
       " 7,\n",
       " 22,\n",
       " 37,\n",
       " 27,\n",
       " 12,\n",
       " 18,\n",
       " 28,\n",
       " 34,\n",
       " 19,\n",
       " 29,\n",
       " 35,\n",
       " 45,\n",
       " 39,\n",
       " 54,\n",
       " 44]"
      ]
     },
     "execution_count": 67,
     "metadata": {},
     "output_type": "execute_result"
    }
   ],
   "source": [
    "path"
   ]
  },
  {
   "cell_type": "markdown",
   "id": "60cf8b5e-0fdd-4dc3-a771-b51462af9b88",
   "metadata": {},
   "source": [
    "## 通用深度优先搜索"
   ]
  },
  {
   "cell_type": "code",
   "execution_count": 70,
   "id": "ef8de11e-494e-4528-8ad3-83762d103ba4",
   "metadata": {},
   "outputs": [],
   "source": [
    "class DFSGraph(Graph):\n",
    "    def __init__(self):\n",
    "        super().__init__()\n",
    "        self.time = 0\n",
    "    \n",
    "    def dfs(self):\n",
    "        for aVertex in self:\n",
    "            aVertex.setColor('white')\n",
    "            aVertex.setPred(-1)\n",
    "        for aVertex in self:\n",
    "            if aVertex.getColor() == 'white':\n",
    "                self.dfsvisit(aVertex)\n",
    "    \n",
    "    def dfsvisit(self, startVertex):\n",
    "        startVertex.setColor('gray')\n",
    "        self.time = 1\n",
    "        startVertex.setDiscovery(self.time)\n",
    "        for nextVertex in startVertex.getConnections():\n",
    "            if nextVertex.getColor() == 'white':\n",
    "                nextVertex.setPred(startVertex)\n",
    "                self.dfsvisit(nextVertex)\n",
    "        startVertex.setColor('black')\n",
    "        self.time += 1\n",
    "        startVertex.setFinish(self.time)"
   ]
  },
  {
   "cell_type": "code",
   "execution_count": null,
   "id": "a8efb445-2508-4252-908f-e6e090d0f65c",
   "metadata": {},
   "outputs": [],
   "source": []
  }
 ],
 "metadata": {
  "kernelspec": {
   "display_name": "Python 3",
   "language": "python",
   "name": "python3"
  },
  "language_info": {
   "codemirror_mode": {
    "name": "ipython",
    "version": 3
   },
   "file_extension": ".py",
   "mimetype": "text/x-python",
   "name": "python",
   "nbconvert_exporter": "python",
   "pygments_lexer": "ipython3",
   "version": "3.7.6"
  },
  "toc-autonumbering": true
 },
 "nbformat": 4,
 "nbformat_minor": 5
}
